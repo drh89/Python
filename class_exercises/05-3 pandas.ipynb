{
 "cells": [
  {
   "cell_type": "markdown",
   "metadata": {
    "slideshow": {
     "slide_type": "slide"
    }
   },
   "source": [
    "# The course so far...\n",
    "\n",
    "* Whirlwind through Python\n",
    "* Filer, CLI, OO\n",
    "* Plotting\n",
    "* Numpy"
   ]
  },
  {
   "cell_type": "markdown",
   "metadata": {
    "slideshow": {
     "slide_type": "subslide"
    }
   },
   "source": [
    "## What is left ...\n",
    "\n",
    "* More data processing with Pandas (today)\n",
    "* Multiprocessing, generators and requests\n",
    "* Webscraping\n",
    "* Web services\n",
    "* Cli with arguments\n",
    "* Graphs and PageRank\n",
    "* Feature engineering\n",
    "* Neural networks\n",
    "* Image processing\n",
    "* Movement detection\n",
    "* 3 weeks group based project"
   ]
  },
  {
   "cell_type": "markdown",
   "metadata": {
    "slideshow": {
     "slide_type": "subslide"
    }
   },
   "source": [
    "# Learning objectives"
   ]
  },
  {
   "cell_type": "markdown",
   "metadata": {
    "slideshow": {
     "slide_type": "subslide"
    }
   },
   "source": [
    "## Skills \n",
    "\n",
    "* Write Python scripts and programs using common language constructs in the read-eval-print-loop (REPL), “Jupyter Notebooks”, as well as separate self-contained programs. \n",
    "\n",
    "* Download files from the web programmatically, as well as reading most common file formats programmatically. \n",
    "\n",
    "* Create various types of plots programmatically to share insight into data. \n",
    "\n",
    "* Apply Python’s scientific libraries and some of the most prominent algorithms in data science for problem solving and complexity reduction. \n",
    "\n",
    "* Programmatically, process images and streams of images. \n",
    "\n",
    "* Automate repetitive and boring tasks for example for data collection or UI testing. \n",
    "\n",
    " "
   ]
  },
  {
   "cell_type": "markdown",
   "metadata": {
    "slideshow": {
     "slide_type": "subslide"
    }
   },
   "source": [
    "\n",
    "\n",
    "## Competencies \n",
    "\n",
    "* collect various types of data \n",
    "\n",
    "* formulate problems about this data \n",
    "\n",
    "* implement solutions to given problem statements \n",
    "\n",
    "* present results\n",
    "\n",
    "*  gain experiences in code reviews"
   ]
  },
  {
   "cell_type": "markdown",
   "metadata": {
    "slideshow": {
     "slide_type": "subslide"
    }
   },
   "source": [
    "## Exam\n",
    "* Group presentation of 10 minutes followed by 10 minutes of questions per student (minimum 30 minutes). \n",
    "\n",
    "* The exam is based on a presentation of the student’s group project and it is facilitated by an interactive programming environment. Additionally, this includes a discussion of the project’s solutions with respect to the main topics of the course.\n",
    "* For the main topics questions will be known to the students in advance. "
   ]
  },
  {
   "cell_type": "markdown",
   "metadata": {
    "slideshow": {
     "slide_type": "slide"
    }
   },
   "source": [
    "# TOC\n",
    "\n",
    "- Pandas\n",
    "  - Loading and reading data\n",
    "  - Series\n",
    "    - 1 dimensional data structure\n",
    "  - DataFrame\n",
    "    - 2 dimensional data structure\n",
    "    - `pandas.DataFrame( data, index, columns, dtype, copy)`\n",
    "    - columns can be of different types\n",
    "    - data can be lists, dicts, maps, ndarrays."
   ]
  },
  {
   "cell_type": "markdown",
   "metadata": {
    "slideshow": {
     "slide_type": "subslide"
    }
   },
   "source": [
    "## Initialising `numpy` and `matplotlib`"
   ]
  },
  {
   "cell_type": "code",
   "execution_count": 1,
   "metadata": {
    "slideshow": {
     "slide_type": "fragment"
    }
   },
   "outputs": [
    {
     "name": "stdout",
     "output_type": "stream",
     "text": [
      "Populating the interactive namespace from numpy and matplotlib\n"
     ]
    }
   ],
   "source": [
    "%pylab inline \n",
    "# %pylab is a magic function in ipython, and triggers the import of various modules within Matplotlib"
   ]
  },
  {
   "cell_type": "markdown",
   "metadata": {},
   "source": [
    "#### Above magic function equals\n",
    "```python\n",
    "import pandas as pd\n",
    "import numpy as np\n",
    "import matplotlib.pyplot as plt\n",
    "%matplotlib inline \n",
    "```\n",
    "Magic function: `%matplotlib inline` is to show plots directly below code as part of the notebook."
   ]
  },
  {
   "cell_type": "markdown",
   "metadata": {},
   "source": [
    "# Pandas: Series, Data Frames and Time Series\n",
    "\n",
    "Pandas is -similar to NumPy- another library offering high-level data structures, which enable fast data analyzis. For us, the most important are probably the types `Series` and `DataFrame`, both of which are introduced in the following.  \n",
    "\n",
    "This tutorial is based on the [intro to Pandas:](http://pandas.pydata.org/pandas-docs/stable/10min.html)"
   ]
  },
  {
   "cell_type": "markdown",
   "metadata": {
    "slideshow": {
     "slide_type": "subslide"
    }
   },
   "source": [
    "\n",
    "## Pandas vs Numpy\n",
    "1. In pandas we have 1D Series and 2D DataFrame in numpy we have multi dimensional ndArrays\n",
    "2. In DataFrame we have column names (like in sql) in ndArrays we have data slicing based in indices\n",
    "3. In DataFrame we can have multiple datatypes in different columns\n",
    "  \n",
    "![](images/pandas_vs_numpy.png)  "
   ]
  },
  {
   "cell_type": "markdown",
   "metadata": {},
   "source": [
    "As we will refer to Panda's classes and functions often in code, we usually import the module as `pd`."
   ]
  },
  {
   "cell_type": "code",
   "execution_count": 13,
   "metadata": {},
   "outputs": [],
   "source": [
    "import pandas as pd"
   ]
  },
  {
   "cell_type": "markdown",
   "metadata": {
    "slideshow": {
     "slide_type": "subslide"
    }
   },
   "source": [
    "## Learning a new framework\n",
    "\n",
    "1. Study the API\n",
    "  * https://pandas.pydata.org/pandas-docs/stable/reference/index.html"
   ]
  },
  {
   "cell_type": "markdown",
   "metadata": {
    "slideshow": {
     "slide_type": "subslide"
    }
   },
   "source": [
    "## Getting data with Pandas\n",
    "\n",
    "https://pandas.pydata.org/pandas-docs/stable/reference/io.html\n",
    "\n",
    "```python\n",
    "pd.read_csv(...)\n",
    "```"
   ]
  },
  {
   "cell_type": "code",
   "execution_count": 2,
   "metadata": {},
   "outputs": [],
   "source": [
    "data_frame = pd.read_csv('befkbhalderstatkode.csv')\n",
    "list([]).append()"
   ]
  },
  {
   "cell_type": "code",
   "execution_count": 14,
   "metadata": {
    "slideshow": {
     "slide_type": "fragment"
    }
   },
   "outputs": [
    {
     "data": {
      "text/html": [
       "<div>\n",
       "<style scoped>\n",
       "    .dataframe tbody tr th:only-of-type {\n",
       "        vertical-align: middle;\n",
       "    }\n",
       "\n",
       "    .dataframe tbody tr th {\n",
       "        vertical-align: top;\n",
       "    }\n",
       "\n",
       "    .dataframe thead th {\n",
       "        text-align: right;\n",
       "    }\n",
       "</style>\n",
       "<table border=\"1\" class=\"dataframe\">\n",
       "  <thead>\n",
       "    <tr style=\"text-align: right;\">\n",
       "      <th></th>\n",
       "      <th>AAR</th>\n",
       "      <th>BYDEL</th>\n",
       "      <th>ALDER</th>\n",
       "      <th>STATKODE</th>\n",
       "      <th>PERSONER</th>\n",
       "    </tr>\n",
       "  </thead>\n",
       "  <tbody>\n",
       "    <tr>\n",
       "      <td>0</td>\n",
       "      <td>2015</td>\n",
       "      <td>1</td>\n",
       "      <td>0</td>\n",
       "      <td>5100</td>\n",
       "      <td>614</td>\n",
       "    </tr>\n",
       "    <tr>\n",
       "      <td>1</td>\n",
       "      <td>2015</td>\n",
       "      <td>1</td>\n",
       "      <td>0</td>\n",
       "      <td>5104</td>\n",
       "      <td>2</td>\n",
       "    </tr>\n",
       "    <tr>\n",
       "      <td>2</td>\n",
       "      <td>2015</td>\n",
       "      <td>1</td>\n",
       "      <td>0</td>\n",
       "      <td>5106</td>\n",
       "      <td>1</td>\n",
       "    </tr>\n",
       "    <tr>\n",
       "      <td>3</td>\n",
       "      <td>2015</td>\n",
       "      <td>1</td>\n",
       "      <td>0</td>\n",
       "      <td>5110</td>\n",
       "      <td>1</td>\n",
       "    </tr>\n",
       "    <tr>\n",
       "      <td>4</td>\n",
       "      <td>2015</td>\n",
       "      <td>1</td>\n",
       "      <td>0</td>\n",
       "      <td>5120</td>\n",
       "      <td>4</td>\n",
       "    </tr>\n",
       "  </tbody>\n",
       "</table>\n",
       "</div>"
      ],
      "text/plain": [
       "    AAR  BYDEL  ALDER  STATKODE  PERSONER\n",
       "0  2015      1      0      5100       614\n",
       "1  2015      1      0      5104         2\n",
       "2  2015      1      0      5106         1\n",
       "3  2015      1      0      5110         1\n",
       "4  2015      1      0      5120         4"
      ]
     },
     "execution_count": 14,
     "metadata": {},
     "output_type": "execute_result"
    }
   ],
   "source": [
    "df = pd.read_csv('befkbhalderstatkode.csv')\n",
    "df.head()"
   ]
  },
  {
   "cell_type": "markdown",
   "metadata": {
    "slideshow": {
     "slide_type": "subslide"
    }
   },
   "source": [
    "* What are the columns in the dataset?"
   ]
  },
  {
   "cell_type": "code",
   "execution_count": 32,
   "metadata": {
    "slideshow": {
     "slide_type": "fragment"
    }
   },
   "outputs": [
    {
     "data": {
      "text/plain": [
       "Index(['AAR', 'BYDEL', 'ALDER', 'STATKODE', 'PERSONER'], dtype='object')"
      ]
     },
     "execution_count": 32,
     "metadata": {},
     "output_type": "execute_result"
    }
   ],
   "source": [
    "df.columns"
   ]
  },
  {
   "cell_type": "code",
   "execution_count": 33,
   "metadata": {
    "slideshow": {
     "slide_type": "subslide"
    }
   },
   "outputs": [
    {
     "data": {
      "text/plain": [
       "pandas.core.frame.DataFrame"
      ]
     },
     "execution_count": 33,
     "metadata": {},
     "output_type": "execute_result"
    }
   ],
   "source": [
    "type(df)"
   ]
  },
  {
   "cell_type": "markdown",
   "metadata": {
    "slideshow": {
     "slide_type": "subslide"
    }
   },
   "source": [
    "* What is the dimensionality of the dataframe?"
   ]
  },
  {
   "cell_type": "code",
   "execution_count": 34,
   "metadata": {
    "slideshow": {
     "slide_type": "fragment"
    }
   },
   "outputs": [
    {
     "data": {
      "text/plain": [
       "(542517, 5)"
      ]
     },
     "execution_count": 34,
     "metadata": {},
     "output_type": "execute_result"
    }
   ],
   "source": [
    "df.shape"
   ]
  },
  {
   "cell_type": "markdown",
   "metadata": {
    "slideshow": {
     "slide_type": "subslide"
    }
   },
   "source": [
    "### Getting a column of data by name:\n",
    "What data type is the column?\n",
    "```python\n",
    "df['ALDER']\n",
    "```\n"
   ]
  },
  {
   "cell_type": "code",
   "execution_count": 53,
   "metadata": {
    "slideshow": {
     "slide_type": "fragment"
    }
   },
   "outputs": [
    {
     "data": {
      "text/plain": [
       "pandas.core.series.Series"
      ]
     },
     "execution_count": 53,
     "metadata": {},
     "output_type": "execute_result"
    }
   ],
   "source": [
    "type(df['ALDER'])"
   ]
  },
  {
   "cell_type": "markdown",
   "metadata": {},
   "source": [
    "### Slicing a column of data by index"
   ]
  },
  {
   "cell_type": "code",
   "execution_count": 58,
   "metadata": {
    "scrolled": true,
    "slideshow": {
     "slide_type": "fragment"
    }
   },
   "outputs": [
    {
     "name": "stdout",
     "output_type": "stream",
     "text": [
      "<class 'pandas.core.series.Series'>\n"
     ]
    },
    {
     "data": {
      "text/plain": [
       "0         2015\n",
       "1         2015\n",
       "2         2015\n",
       "3         2015\n",
       "4         2015\n",
       "          ... \n",
       "542512    1992\n",
       "542513    1992\n",
       "542514    1992\n",
       "542515    1992\n",
       "542516    1992\n",
       "Name: AAR, Length: 542517, dtype: int64"
      ]
     },
     "execution_count": 58,
     "metadata": {},
     "output_type": "execute_result"
    }
   ],
   "source": [
    "print(type(df.iloc[:,0]))\n",
    "df.iloc[:,0] # all rows of first column"
   ]
  },
  {
   "cell_type": "markdown",
   "metadata": {},
   "source": [
    "### Slicing a row of data by index\n",
    "Notice how we get a Series object with labels being the column names"
   ]
  },
  {
   "cell_type": "code",
   "execution_count": 60,
   "metadata": {
    "scrolled": true
   },
   "outputs": [
    {
     "name": "stdout",
     "output_type": "stream",
     "text": [
      "<class 'pandas.core.series.Series'>\n"
     ]
    },
    {
     "data": {
      "text/plain": [
       "AAR         2015\n",
       "BYDEL          1\n",
       "ALDER          0\n",
       "STATKODE    5100\n",
       "PERSONER     614\n",
       "Name: 0, dtype: int64"
      ]
     },
     "execution_count": 60,
     "metadata": {},
     "output_type": "execute_result"
    }
   ],
   "source": [
    "first_row = df.iloc[0,:] # or just df.iloc[0]\n",
    "print(type(first_row))\n",
    "first_row"
   ]
  },
  {
   "cell_type": "code",
   "execution_count": 61,
   "metadata": {},
   "outputs": [
    {
     "data": {
      "text/plain": [
       "2015"
      ]
     },
     "execution_count": 61,
     "metadata": {},
     "output_type": "execute_result"
    }
   ],
   "source": [
    "first_row['AAR']"
   ]
  },
  {
   "cell_type": "markdown",
   "metadata": {
    "slideshow": {
     "slide_type": "subslide"
    }
   },
   "source": [
    "* Get the second element of the third column using the `iloc` method"
   ]
  },
  {
   "cell_type": "code",
   "execution_count": 15,
   "metadata": {
    "slideshow": {
     "slide_type": "fragment"
    }
   },
   "outputs": [
    {
     "data": {
      "text/plain": [
       "0"
      ]
     },
     "execution_count": 15,
     "metadata": {},
     "output_type": "execute_result"
    }
   ],
   "source": [
    "# iloc (integer location method)\n",
    "col = 2\n",
    "row = 1\n",
    "df.iloc[row][col] "
   ]
  },
  {
   "cell_type": "code",
   "execution_count": 16,
   "metadata": {},
   "outputs": [
    {
     "name": "stdout",
     "output_type": "stream",
     "text": [
      "<class 'numpy.ndarray'>\n"
     ]
    }
   ],
   "source": [
    "import numpy \n",
    "import pandas\n",
    "data = np.array([['','Col1','Col2','col3'],\n",
    "                ['Row1',1,2,3],\n",
    "                ['Row2',4,5,6],\n",
    "                ['Row3',7,8,9]])\n",
    "print(type(data))\n",
    "df = pd.DataFrame(data=data[1:,1:],\n",
    "                  index=data[1:,0],\n",
    "                  columns=data[0,1:])"
   ]
  },
  {
   "cell_type": "markdown",
   "metadata": {},
   "source": [
    "## Class exercise slicing dataframe\n",
    "Using the file: befkbhalderstatkode.csv \n",
    "Use this data:\n",
    "```python\n",
    "data = np.array([['','Col1','Col2','col3'],\n",
    "                ['Row1',1,2,3],\n",
    "                ['Row2',4,5,6],\n",
    "                ['Row3',7,8,9]])\n",
    "```\n",
    "1. wrap the data above in a pandas DataFrame in a way that printing the dataframe and its index and column attributes gives this result: (Hint: print(df);print(df.index);print(df.columns):     \n",
    "\n",
    "``` \n",
    "     Col1 Col2 col3  \n",
    "Row1    1    2    3\n",
    "Row2    4    5    6\n",
    "Row3    7    8    9\n",
    "\n",
    "Index(['Row1', 'Row2', 'Row3'], dtype='object')\n",
    "Index(['Col1', 'Col2', 'col3'], dtype='object')\n",
    "```\n",
    "(Hint: use the pd.DataFrame(data=, column=, index=) arguments)\n",
    "2. Make slices of data:\n",
    "   1. second column using column name\n",
    "   2. third column using column index (.iloc[])\n",
    "   3. slice element at third row of second column (use .iloc())"
   ]
  },
  {
   "cell_type": "markdown",
   "metadata": {
    "slideshow": {
     "slide_type": "subslide"
    }
   },
   "source": [
    "## `Pandas Series` (like dictionary with added functionality ...)\n",
    "\n",
    "A `Series` is a labeled array (one-dimensional ndarrays with axis-labels) capable of holding any data type (integers, strings, floating point numbers, Python objects, etc.). The axis labels are collectively referred to as the index. The data structure is similar to the python dictionary, but it differs in that pandas series has a lot of methods for complex data manipulation.\n",
    "\n",
    "http://pandas.pydata.org/pandas-docs/stable/dsintro.html#series\n",
    "\n",
    "You can create a Series by passing a list of values, letting Pandas create a default integer index."
   ]
  },
  {
   "cell_type": "code",
   "execution_count": 62,
   "metadata": {},
   "outputs": [
    {
     "name": "stdout",
     "output_type": "stream",
     "text": [
      "0       1\n",
      "1       3\n",
      "2       5\n",
      "3     NaN\n",
      "4    seks\n",
      "5       8\n",
      "dtype: object \n",
      "---------------------\n",
      "6    seks\n",
      "5     fem\n",
      "4    fire\n",
      "dtype: object\n"
     ]
    }
   ],
   "source": [
    "# Pandas Series with multiple data types\n",
    "s = pd.Series([1, 3, 5, np.nan, 'seks', 8])\n",
    "print(s,'\\n---------------------')\n",
    "s = pd.Series(['seks','fem','fire'],[6,5,4]) # in pd.Series we can provide any keys we like to the data\n",
    "print(s)"
   ]
  },
  {
   "cell_type": "markdown",
   "metadata": {
    "slideshow": {
     "slide_type": "subslide"
    }
   },
   "source": [
    "* Get the third column in the `befkbhalderstatkode.csv` dataset and notice how we get a Pandas Series object with labels (keys) as numerical indices."
   ]
  },
  {
   "cell_type": "code",
   "execution_count": 57,
   "metadata": {
    "slideshow": {
     "slide_type": "fragment"
    }
   },
   "outputs": [
    {
     "name": "stdout",
     "output_type": "stream",
     "text": [
      "<class 'pandas.core.series.Series'>\n"
     ]
    },
    {
     "data": {
      "text/plain": [
       "0          0\n",
       "1          0\n",
       "2          0\n",
       "3          0\n",
       "4          0\n",
       "          ..\n",
       "542512    81\n",
       "542513    87\n",
       "542514    89\n",
       "542515    90\n",
       "542516    93\n",
       "Name: ALDER, Length: 542517, dtype: int64"
      ]
     },
     "execution_count": 57,
     "metadata": {},
     "output_type": "execute_result"
    }
   ],
   "source": [
    "print(type(df['ALDER']))\n",
    "df['ALDER']"
   ]
  },
  {
   "cell_type": "markdown",
   "metadata": {
    "slideshow": {
     "slide_type": "subslide"
    }
   },
   "source": [
    "## World bank data\n",
    "For the following example introducing `Series` we will collect some open data from the World Bank, see http://data.worldbank.org/?locations=DK-UY. This dataset includes a plethora of interesting data. However, for this example we will focus on the *CO2 emissions*.\n",
    "\n",
    "First, we have to download the data. We do this by writing the response to a request to the World Bank API into a file. As denoted in the response header, we receive a ZIP file."
   ]
  },
  {
   "cell_type": "code",
   "execution_count": 41,
   "metadata": {
    "slideshow": {
     "slide_type": "subslide"
    }
   },
   "outputs": [
    {
     "name": "stdout",
     "output_type": "stream",
     "text": [
      "{'Date': 'Sun, 15 Dec 2019 22:36:24 GMT', 'Content-Type': 'application/zip', 'Content-Length': '73422', 'Connection': 'keep-alive', 'Content-Disposition': 'attachment; filename=API_EN.ATM.CO2E.KT_DS2_en_csv_v2_566461.zip', 'X-Powered-By': 'ASP.NET', 'Set-Cookie': 'TS019266c8=017189f9471245b0a2ab038da2fb7548dcf950bde304747786788fdc1122c3fdfea6a2a0e3; Path=/', 'Strict-Transport-Security': 'max-age=31536000; includeSubDomains', 'X-XSS-Protection': '1; mode=block', 'X-Content-Type-Options': 'nosniff', 'X-Frame-Options': 'deny'}\n"
     ]
    }
   ],
   "source": [
    "import requests\n",
    "\n",
    "# url = 'http://api.worldbank.org/v2/en/country/DNK;URY' \n",
    "# response = requests.get(url, params={'downloadformat': 'csv'})\n",
    "url = 'http://api.worldbank.org/v2/en/indicator/EN.ATM.CO2E.KT?downloadformat=csv'\n",
    "response = requests.get(url)\n",
    "\n",
    "print(response.headers)"
   ]
  },
  {
   "cell_type": "code",
   "execution_count": 63,
   "metadata": {
    "slideshow": {
     "slide_type": "fragment"
    }
   },
   "outputs": [
    {
     "name": "stdout",
     "output_type": "stream",
     "text": [
      "-----------------\n",
      "Downloaded API_EN.ATM.CO2E.KT_DS2_en_csv_v2_566461.zip\n"
     ]
    }
   ],
   "source": [
    "# get the filename\n",
    "fname = response.headers['Content-Disposition'].split('=')[1]\n",
    "\n",
    "# write content to file (zip file writing bytes)\n",
    "if response.ok:  # status_code == 200:\n",
    "    with open(fname, 'wb') as f:\n",
    "        f.write(response.content)   \n",
    "print('-----------------')\n",
    "print('Downloaded {}'.format(fname))"
   ]
  },
  {
   "cell_type": "code",
   "execution_count": 66,
   "metadata": {},
   "outputs": [
    {
     "name": "stdout",
     "output_type": "stream",
     "text": [
      "-rw-rw-r-- 1 tha tha  42K Dec 15 23:58 04xNumpy.ipynb\n",
      "-rwx------ 1 tha tha 117K Dec 15 23:58 04 Numpy.ipynb\n",
      "-rw-rw-r-- 1 tha tha  30K Dec 16 00:17 05 Subprocess.ipynb\n",
      "-rw-rw-r-- 1 tha tha 8.8K Dec 17 00:02 08 Data Persistence.ipynb\n",
      "-rw-rw-r-- 1 tha tha  18K Dec 17 11:03 05 DateTime.ipynb\n",
      "-rw-rw-r-- 1 tha tha  72K Dec 17 11:32 API_EN.ATM.CO2E.KT_DS2_en_csv_v2_566461.zip\n",
      "-rwx------ 1 tha tha  34K Dec 17 11:33 05 pandas.ipynb\n",
      "-rw-rw-r-- 1 tha tha  466 Dec 17 11:33 Metadata_Indicator_API_EN.ATM.CO2E.KT_DS2_en_csv_v2_566461.csv\n",
      "-rw-rw-r-- 1 tha tha 174K Dec 17 11:33 API_EN.ATM.CO2E.KT_DS2_en_csv_v2_566461.csv\n",
      "-rw-rw-r-- 1 tha tha  31K Dec 17 11:33 Metadata_Country_API_EN.ATM.CO2E.KT_DS2_en_csv_v2_566461.csv\n"
     ]
    }
   ],
   "source": [
    "%%bash\n",
    "ls -ltrh | tail\n",
    "#man ls"
   ]
  },
  {
   "cell_type": "markdown",
   "metadata": {
    "slideshow": {
     "slide_type": "subslide"
    }
   },
   "source": [
    "You can resort to the standard libraries `zipfile` module to uncompress the downloaded file."
   ]
  },
  {
   "cell_type": "code",
   "execution_count": 65,
   "metadata": {},
   "outputs": [],
   "source": [
    "import zipfile\n",
    "# extract content of zip file in current folder\n",
    "zipfile.ZipFile(fname, 'r').extractall('.')"
   ]
  },
  {
   "cell_type": "code",
   "execution_count": 96,
   "metadata": {},
   "outputs": [],
   "source": [
    "%less API_EN.ATM.CO2E.KT_DS2_en_csv_v2_566461.csv"
   ]
  },
  {
   "cell_type": "code",
   "execution_count": 108,
   "metadata": {
    "scrolled": false
   },
   "outputs": [
    {
     "name": "stdout",
     "output_type": "stream",
     "text": [
      "column names:\n",
      " ['Country Name', 'Country Code', 'Indicator Name', 'Indicator Code', '1960', '1961', '1962', '1963', '1964', '1965', '1966', '1967', '1968', '1969', '1970', '1971', '1972', '1973', '1974', '1975', '1976', '1977', '1978', '1979', '1980', '1981', '1982', '1983', '1984', '1985', '1986', '1987', '1988', '1989', '1990', '1991', '1992', '1993', '1994', '1995', '1996', '1997', '1998', '1999', '2000', '2001', '2002', '2003', '2004', '2005', '2006', '2007', '2008', '2009', '2010', '2011', '2012', '2013', '2014', '2015', '2016', '2017', '2018', '2019', 'Unnamed: 64'] \n",
      "\n",
      "\n",
      "264 countries are in the dataset.\n",
      "countries are of data type:  <class 'pandas.core.series.Series'>\n",
      "['Aruba', 'Afghanistan', 'Angola', 'Albania', 'Andorra', 'Arab World', 'United Arab Emirates', 'Argentina', 'Armenia', 'American Samoa', 'Antigua and Barbuda', 'Australia', 'Austria', 'Azerbaijan', 'Burundi', 'Belgium', 'Benin', 'Burkina Faso', 'Bangladesh', 'Bulgaria', 'Bahrain', 'Bahamas, The', 'Bosnia and Herzegovina', 'Belarus', 'Belize', 'Bermuda', 'Bolivia', 'Brazil', 'Barbados', 'Brunei Darussalam', 'Bhutan', 'Botswana', 'Central African Republic', 'Canada', 'Central Europe and the Baltics', 'Switzerland', 'Channel Islands', 'Chile', 'China', \"Cote d'Ivoire\", 'Cameroon', 'Congo, Dem. Rep.', 'Congo, Rep.', 'Colombia', 'Comoros', 'Cabo Verde', 'Costa Rica', 'Caribbean small states', 'Cuba', 'Curacao', 'Cayman Islands', 'Cyprus', 'Czech Republic', 'Germany', 'Djibouti', 'Dominica', 'Denmark', 'Dominican Republic', 'Algeria', 'East Asia & Pacific (excluding high income)', 'Early-demographic dividend', 'East Asia & Pacific', 'Europe & Central Asia (excluding high income)', 'Europe & Central Asia', 'Ecuador', 'Egypt, Arab Rep.', 'Euro area', 'Eritrea', 'Spain', 'Estonia', 'Ethiopia', 'European Union', 'Fragile and conflict affected situations', 'Finland', 'Fiji', 'France', 'Faroe Islands', 'Micronesia, Fed. Sts.', 'Gabon', 'United Kingdom', 'Georgia', 'Ghana', 'Gibraltar', 'Guinea', 'Gambia, The', 'Guinea-Bissau', 'Equatorial Guinea', 'Greece', 'Grenada', 'Greenland', 'Guatemala', 'Guam', 'Guyana', 'High income', 'Hong Kong SAR, China', 'Honduras', 'Heavily indebted poor countries (HIPC)', 'Croatia', 'Haiti', 'Hungary', 'IBRD only', 'IDA & IBRD total', 'IDA total', 'IDA blend', 'Indonesia', 'IDA only', 'Isle of Man', 'India', 'Not classified', 'Ireland', 'Iran, Islamic Rep.', 'Iraq', 'Iceland', 'Israel', 'Italy', 'Jamaica', 'Jordan', 'Japan', 'Kazakhstan', 'Kenya', 'Kyrgyz Republic', 'Cambodia', 'Kiribati', 'St. Kitts and Nevis', 'Korea, Rep.', 'Kuwait', 'Latin America & Caribbean (excluding high income)', 'Lao PDR', 'Lebanon', 'Liberia', 'Libya', 'St. Lucia', 'Latin America & Caribbean', 'Least developed countries: UN classification', 'Low income', 'Liechtenstein', 'Sri Lanka', 'Lower middle income', 'Low & middle income', 'Lesotho', 'Late-demographic dividend', 'Lithuania', 'Luxembourg', 'Latvia', 'Macao SAR, China', 'St. Martin (French part)', 'Morocco', 'Monaco', 'Moldova', 'Madagascar', 'Maldives', 'Middle East & North Africa', 'Mexico', 'Marshall Islands', 'Middle income', 'North Macedonia', 'Mali', 'Malta', 'Myanmar', 'Middle East & North Africa (excluding high income)', 'Montenegro', 'Mongolia', 'Northern Mariana Islands', 'Mozambique', 'Mauritania', 'Mauritius', 'Malawi', 'Malaysia', 'North America', 'Namibia', 'New Caledonia', 'Niger', 'Nigeria', 'Nicaragua', 'Netherlands', 'Norway', 'Nepal', 'Nauru', 'New Zealand', 'OECD members', 'Oman', 'Other small states', 'Pakistan', 'Panama', 'Peru', 'Philippines', 'Palau', 'Papua New Guinea', 'Poland', 'Pre-demographic dividend', 'Puerto Rico', 'Korea, Dem. People’s Rep.', 'Portugal', 'Paraguay', 'West Bank and Gaza', 'Pacific island small states', 'Post-demographic dividend', 'French Polynesia', 'Qatar', 'Romania', 'Russian Federation', 'Rwanda', 'South Asia', 'Saudi Arabia', 'Sudan', 'Senegal', 'Singapore', 'Solomon Islands', 'Sierra Leone', 'El Salvador', 'San Marino', 'Somalia', 'Serbia', 'Sub-Saharan Africa (excluding high income)', 'South Sudan', 'Sub-Saharan Africa', 'Small states', 'Sao Tome and Principe', 'Suriname', 'Slovak Republic', 'Slovenia', 'Sweden', 'Eswatini', 'Sint Maarten (Dutch part)', 'Seychelles', 'Syrian Arab Republic', 'Turks and Caicos Islands', 'Chad', 'East Asia & Pacific (IDA & IBRD countries)', 'Europe & Central Asia (IDA & IBRD countries)', 'Togo', 'Thailand', 'Tajikistan', 'Turkmenistan', 'Latin America & the Caribbean (IDA & IBRD countries)', 'Timor-Leste', 'Middle East & North Africa (IDA & IBRD countries)', 'Tonga', 'South Asia (IDA & IBRD)', 'Sub-Saharan Africa (IDA & IBRD countries)', 'Trinidad and Tobago', 'Tunisia', 'Turkey', 'Tuvalu', 'Tanzania', 'Uganda', 'Ukraine', 'Upper middle income', 'Uruguay', 'United States', 'Uzbekistan', 'St. Vincent and the Grenadines', 'Venezuela, RB', 'British Virgin Islands', 'Virgin Islands (U.S.)', 'Vietnam', 'Vanuatu', 'World', 'Samoa', 'Kosovo', 'Yemen, Rep.', 'South Africa', 'Zambia', 'Zimbabwe']\n"
     ]
    },
    {
     "data": {
      "text/html": [
       "<div>\n",
       "<style scoped>\n",
       "    .dataframe tbody tr th:only-of-type {\n",
       "        vertical-align: middle;\n",
       "    }\n",
       "\n",
       "    .dataframe tbody tr th {\n",
       "        vertical-align: top;\n",
       "    }\n",
       "\n",
       "    .dataframe thead th {\n",
       "        text-align: right;\n",
       "    }\n",
       "</style>\n",
       "<table border=\"1\" class=\"dataframe\">\n",
       "  <thead>\n",
       "    <tr style=\"text-align: right;\">\n",
       "      <th></th>\n",
       "      <th>Country Name</th>\n",
       "      <th>Country Code</th>\n",
       "      <th>Indicator Name</th>\n",
       "      <th>Indicator Code</th>\n",
       "      <th>1960</th>\n",
       "      <th>1961</th>\n",
       "      <th>1962</th>\n",
       "      <th>1963</th>\n",
       "      <th>1964</th>\n",
       "      <th>1965</th>\n",
       "      <th>...</th>\n",
       "      <th>2011</th>\n",
       "      <th>2012</th>\n",
       "      <th>2013</th>\n",
       "      <th>2014</th>\n",
       "      <th>2015</th>\n",
       "      <th>2016</th>\n",
       "      <th>2017</th>\n",
       "      <th>2018</th>\n",
       "      <th>2019</th>\n",
       "      <th>Unnamed: 64</th>\n",
       "    </tr>\n",
       "  </thead>\n",
       "  <tbody>\n",
       "    <tr>\n",
       "      <td>0</td>\n",
       "      <td>Aruba</td>\n",
       "      <td>ABW</td>\n",
       "      <td>CO2 emissions (kt)</td>\n",
       "      <td>EN.ATM.CO2E.KT</td>\n",
       "      <td>NaN</td>\n",
       "      <td>NaN</td>\n",
       "      <td>NaN</td>\n",
       "      <td>NaN</td>\n",
       "      <td>NaN</td>\n",
       "      <td>NaN</td>\n",
       "      <td>...</td>\n",
       "      <td>2500.894</td>\n",
       "      <td>1349.456</td>\n",
       "      <td>861.745</td>\n",
       "      <td>872.746</td>\n",
       "      <td>NaN</td>\n",
       "      <td>NaN</td>\n",
       "      <td>NaN</td>\n",
       "      <td>NaN</td>\n",
       "      <td>NaN</td>\n",
       "      <td>NaN</td>\n",
       "    </tr>\n",
       "    <tr>\n",
       "      <td>1</td>\n",
       "      <td>Afghanistan</td>\n",
       "      <td>AFG</td>\n",
       "      <td>CO2 emissions (kt)</td>\n",
       "      <td>EN.ATM.CO2E.KT</td>\n",
       "      <td>414.371</td>\n",
       "      <td>491.378</td>\n",
       "      <td>689.396</td>\n",
       "      <td>707.731</td>\n",
       "      <td>839.743</td>\n",
       "      <td>1008.425</td>\n",
       "      <td>...</td>\n",
       "      <td>12240.446</td>\n",
       "      <td>10755.311</td>\n",
       "      <td>10014.577</td>\n",
       "      <td>9809.225</td>\n",
       "      <td>NaN</td>\n",
       "      <td>NaN</td>\n",
       "      <td>NaN</td>\n",
       "      <td>NaN</td>\n",
       "      <td>NaN</td>\n",
       "      <td>NaN</td>\n",
       "    </tr>\n",
       "    <tr>\n",
       "      <td>2</td>\n",
       "      <td>Angola</td>\n",
       "      <td>AGO</td>\n",
       "      <td>CO2 emissions (kt)</td>\n",
       "      <td>EN.ATM.CO2E.KT</td>\n",
       "      <td>550.050</td>\n",
       "      <td>454.708</td>\n",
       "      <td>1180.774</td>\n",
       "      <td>1151.438</td>\n",
       "      <td>1224.778</td>\n",
       "      <td>1188.108</td>\n",
       "      <td>...</td>\n",
       "      <td>30340.758</td>\n",
       "      <td>33399.036</td>\n",
       "      <td>32617.965</td>\n",
       "      <td>34763.160</td>\n",
       "      <td>NaN</td>\n",
       "      <td>NaN</td>\n",
       "      <td>NaN</td>\n",
       "      <td>NaN</td>\n",
       "      <td>NaN</td>\n",
       "      <td>NaN</td>\n",
       "    </tr>\n",
       "    <tr>\n",
       "      <td>3</td>\n",
       "      <td>Albania</td>\n",
       "      <td>ALB</td>\n",
       "      <td>CO2 emissions (kt)</td>\n",
       "      <td>EN.ATM.CO2E.KT</td>\n",
       "      <td>2024.184</td>\n",
       "      <td>2280.874</td>\n",
       "      <td>2464.224</td>\n",
       "      <td>2082.856</td>\n",
       "      <td>2016.850</td>\n",
       "      <td>2174.531</td>\n",
       "      <td>...</td>\n",
       "      <td>5240.143</td>\n",
       "      <td>4910.113</td>\n",
       "      <td>5064.127</td>\n",
       "      <td>5716.853</td>\n",
       "      <td>NaN</td>\n",
       "      <td>NaN</td>\n",
       "      <td>NaN</td>\n",
       "      <td>NaN</td>\n",
       "      <td>NaN</td>\n",
       "      <td>NaN</td>\n",
       "    </tr>\n",
       "    <tr>\n",
       "      <td>4</td>\n",
       "      <td>Andorra</td>\n",
       "      <td>AND</td>\n",
       "      <td>CO2 emissions (kt)</td>\n",
       "      <td>EN.ATM.CO2E.KT</td>\n",
       "      <td>NaN</td>\n",
       "      <td>NaN</td>\n",
       "      <td>NaN</td>\n",
       "      <td>NaN</td>\n",
       "      <td>NaN</td>\n",
       "      <td>NaN</td>\n",
       "      <td>...</td>\n",
       "      <td>491.378</td>\n",
       "      <td>487.711</td>\n",
       "      <td>476.710</td>\n",
       "      <td>462.042</td>\n",
       "      <td>NaN</td>\n",
       "      <td>NaN</td>\n",
       "      <td>NaN</td>\n",
       "      <td>NaN</td>\n",
       "      <td>NaN</td>\n",
       "      <td>NaN</td>\n",
       "    </tr>\n",
       "    <tr>\n",
       "      <td>...</td>\n",
       "      <td>...</td>\n",
       "      <td>...</td>\n",
       "      <td>...</td>\n",
       "      <td>...</td>\n",
       "      <td>...</td>\n",
       "      <td>...</td>\n",
       "      <td>...</td>\n",
       "      <td>...</td>\n",
       "      <td>...</td>\n",
       "      <td>...</td>\n",
       "      <td>...</td>\n",
       "      <td>...</td>\n",
       "      <td>...</td>\n",
       "      <td>...</td>\n",
       "      <td>...</td>\n",
       "      <td>...</td>\n",
       "      <td>...</td>\n",
       "      <td>...</td>\n",
       "      <td>...</td>\n",
       "      <td>...</td>\n",
       "      <td>...</td>\n",
       "    </tr>\n",
       "    <tr>\n",
       "      <td>259</td>\n",
       "      <td>Kosovo</td>\n",
       "      <td>XKX</td>\n",
       "      <td>CO2 emissions (kt)</td>\n",
       "      <td>EN.ATM.CO2E.KT</td>\n",
       "      <td>NaN</td>\n",
       "      <td>NaN</td>\n",
       "      <td>NaN</td>\n",
       "      <td>NaN</td>\n",
       "      <td>NaN</td>\n",
       "      <td>NaN</td>\n",
       "      <td>...</td>\n",
       "      <td>NaN</td>\n",
       "      <td>NaN</td>\n",
       "      <td>NaN</td>\n",
       "      <td>NaN</td>\n",
       "      <td>NaN</td>\n",
       "      <td>NaN</td>\n",
       "      <td>NaN</td>\n",
       "      <td>NaN</td>\n",
       "      <td>NaN</td>\n",
       "      <td>NaN</td>\n",
       "    </tr>\n",
       "    <tr>\n",
       "      <td>260</td>\n",
       "      <td>Yemen, Rep.</td>\n",
       "      <td>YEM</td>\n",
       "      <td>CO2 emissions (kt)</td>\n",
       "      <td>EN.ATM.CO2E.KT</td>\n",
       "      <td>3633.997</td>\n",
       "      <td>2665.909</td>\n",
       "      <td>3887.020</td>\n",
       "      <td>2918.932</td>\n",
       "      <td>3633.997</td>\n",
       "      <td>3931.024</td>\n",
       "      <td>...</td>\n",
       "      <td>19666.121</td>\n",
       "      <td>18668.697</td>\n",
       "      <td>25496.651</td>\n",
       "      <td>22698.730</td>\n",
       "      <td>NaN</td>\n",
       "      <td>NaN</td>\n",
       "      <td>NaN</td>\n",
       "      <td>NaN</td>\n",
       "      <td>NaN</td>\n",
       "      <td>NaN</td>\n",
       "    </tr>\n",
       "    <tr>\n",
       "      <td>261</td>\n",
       "      <td>South Africa</td>\n",
       "      <td>ZAF</td>\n",
       "      <td>CO2 emissions (kt)</td>\n",
       "      <td>EN.ATM.CO2E.KT</td>\n",
       "      <td>97934.569</td>\n",
       "      <td>102213.958</td>\n",
       "      <td>105767.281</td>\n",
       "      <td>109826.650</td>\n",
       "      <td>119657.877</td>\n",
       "      <td>128260.659</td>\n",
       "      <td>...</td>\n",
       "      <td>470582.443</td>\n",
       "      <td>468770.945</td>\n",
       "      <td>466376.394</td>\n",
       "      <td>489771.854</td>\n",
       "      <td>NaN</td>\n",
       "      <td>NaN</td>\n",
       "      <td>NaN</td>\n",
       "      <td>NaN</td>\n",
       "      <td>NaN</td>\n",
       "      <td>NaN</td>\n",
       "    </tr>\n",
       "    <tr>\n",
       "      <td>262</td>\n",
       "      <td>Zambia</td>\n",
       "      <td>ZMB</td>\n",
       "      <td>CO2 emissions (kt)</td>\n",
       "      <td>EN.ATM.CO2E.KT</td>\n",
       "      <td>NaN</td>\n",
       "      <td>NaN</td>\n",
       "      <td>NaN</td>\n",
       "      <td>NaN</td>\n",
       "      <td>3278.298</td>\n",
       "      <td>3916.356</td>\n",
       "      <td>...</td>\n",
       "      <td>2937.267</td>\n",
       "      <td>3667.000</td>\n",
       "      <td>3956.693</td>\n",
       "      <td>4503.076</td>\n",
       "      <td>NaN</td>\n",
       "      <td>NaN</td>\n",
       "      <td>NaN</td>\n",
       "      <td>NaN</td>\n",
       "      <td>NaN</td>\n",
       "      <td>NaN</td>\n",
       "    </tr>\n",
       "    <tr>\n",
       "      <td>263</td>\n",
       "      <td>Zimbabwe</td>\n",
       "      <td>ZWE</td>\n",
       "      <td>CO2 emissions (kt)</td>\n",
       "      <td>EN.ATM.CO2E.KT</td>\n",
       "      <td>NaN</td>\n",
       "      <td>NaN</td>\n",
       "      <td>NaN</td>\n",
       "      <td>NaN</td>\n",
       "      <td>4473.740</td>\n",
       "      <td>5214.474</td>\n",
       "      <td>...</td>\n",
       "      <td>9563.536</td>\n",
       "      <td>7792.375</td>\n",
       "      <td>11675.728</td>\n",
       "      <td>12020.426</td>\n",
       "      <td>NaN</td>\n",
       "      <td>NaN</td>\n",
       "      <td>NaN</td>\n",
       "      <td>NaN</td>\n",
       "      <td>NaN</td>\n",
       "      <td>NaN</td>\n",
       "    </tr>\n",
       "  </tbody>\n",
       "</table>\n",
       "<p>264 rows × 65 columns</p>\n",
       "</div>"
      ],
      "text/plain": [
       "     Country Name Country Code      Indicator Name  Indicator Code       1960  \\\n",
       "0           Aruba          ABW  CO2 emissions (kt)  EN.ATM.CO2E.KT        NaN   \n",
       "1     Afghanistan          AFG  CO2 emissions (kt)  EN.ATM.CO2E.KT    414.371   \n",
       "2          Angola          AGO  CO2 emissions (kt)  EN.ATM.CO2E.KT    550.050   \n",
       "3         Albania          ALB  CO2 emissions (kt)  EN.ATM.CO2E.KT   2024.184   \n",
       "4         Andorra          AND  CO2 emissions (kt)  EN.ATM.CO2E.KT        NaN   \n",
       "..            ...          ...                 ...             ...        ...   \n",
       "259        Kosovo          XKX  CO2 emissions (kt)  EN.ATM.CO2E.KT        NaN   \n",
       "260   Yemen, Rep.          YEM  CO2 emissions (kt)  EN.ATM.CO2E.KT   3633.997   \n",
       "261  South Africa          ZAF  CO2 emissions (kt)  EN.ATM.CO2E.KT  97934.569   \n",
       "262        Zambia          ZMB  CO2 emissions (kt)  EN.ATM.CO2E.KT        NaN   \n",
       "263      Zimbabwe          ZWE  CO2 emissions (kt)  EN.ATM.CO2E.KT        NaN   \n",
       "\n",
       "           1961        1962        1963        1964        1965  ...  \\\n",
       "0           NaN         NaN         NaN         NaN         NaN  ...   \n",
       "1       491.378     689.396     707.731     839.743    1008.425  ...   \n",
       "2       454.708    1180.774    1151.438    1224.778    1188.108  ...   \n",
       "3      2280.874    2464.224    2082.856    2016.850    2174.531  ...   \n",
       "4           NaN         NaN         NaN         NaN         NaN  ...   \n",
       "..          ...         ...         ...         ...         ...  ...   \n",
       "259         NaN         NaN         NaN         NaN         NaN  ...   \n",
       "260    2665.909    3887.020    2918.932    3633.997    3931.024  ...   \n",
       "261  102213.958  105767.281  109826.650  119657.877  128260.659  ...   \n",
       "262         NaN         NaN         NaN    3278.298    3916.356  ...   \n",
       "263         NaN         NaN         NaN    4473.740    5214.474  ...   \n",
       "\n",
       "           2011        2012        2013        2014  2015  2016  2017  2018  \\\n",
       "0      2500.894    1349.456     861.745     872.746   NaN   NaN   NaN   NaN   \n",
       "1     12240.446   10755.311   10014.577    9809.225   NaN   NaN   NaN   NaN   \n",
       "2     30340.758   33399.036   32617.965   34763.160   NaN   NaN   NaN   NaN   \n",
       "3      5240.143    4910.113    5064.127    5716.853   NaN   NaN   NaN   NaN   \n",
       "4       491.378     487.711     476.710     462.042   NaN   NaN   NaN   NaN   \n",
       "..          ...         ...         ...         ...   ...   ...   ...   ...   \n",
       "259         NaN         NaN         NaN         NaN   NaN   NaN   NaN   NaN   \n",
       "260   19666.121   18668.697   25496.651   22698.730   NaN   NaN   NaN   NaN   \n",
       "261  470582.443  468770.945  466376.394  489771.854   NaN   NaN   NaN   NaN   \n",
       "262    2937.267    3667.000    3956.693    4503.076   NaN   NaN   NaN   NaN   \n",
       "263    9563.536    7792.375   11675.728   12020.426   NaN   NaN   NaN   NaN   \n",
       "\n",
       "     2019  Unnamed: 64  \n",
       "0     NaN          NaN  \n",
       "1     NaN          NaN  \n",
       "2     NaN          NaN  \n",
       "3     NaN          NaN  \n",
       "4     NaN          NaN  \n",
       "..    ...          ...  \n",
       "259   NaN          NaN  \n",
       "260   NaN          NaN  \n",
       "261   NaN          NaN  \n",
       "262   NaN          NaN  \n",
       "263   NaN          NaN  \n",
       "\n",
       "[264 rows x 65 columns]"
      ]
     },
     "execution_count": 108,
     "metadata": {},
     "output_type": "execute_result"
    }
   ],
   "source": [
    "data = pd.read_csv('API_EN.ATM.CO2E.KT_DS2_en_csv_v2_566461.csv', skiprows=4)\n",
    "columns_names = data.columns\n",
    "print('column names:\\n',list(columns_names),'\\n\\n')\n",
    "countries = data['Country Name']\n",
    "print(\"{} countries are in the dataset.\".format(len(countries)))\n",
    "print('countries are of data type: ',type(countries))\n",
    "print(list(countries))\n",
    "data"
   ]
  },
  {
   "cell_type": "code",
   "execution_count": 93,
   "metadata": {},
   "outputs": [
    {
     "data": {
      "text/plain": [
       "Country Name\n",
       "Malta                                          1\n",
       "Sudan                                          2\n",
       "Papua New Guinea                               3\n",
       "Mexico                                         4\n",
       "Sub-Saharan Africa (IDA & IBRD countries)      5\n",
       "                                            ... \n",
       "Timor-Leste                                  260\n",
       "Antigua and Barbuda                          261\n",
       "Mauritania                                   262\n",
       "Korea, Rep.                                  263\n",
       "Gabon                                        264\n",
       "Length: 264, dtype: int64"
      ]
     },
     "execution_count": 93,
     "metadata": {},
     "output_type": "execute_result"
    }
   ],
   "source": [
    "# Create a new pandas Series with countries as labels and a random number as values\n",
    "import random\n",
    "# random.sample takes a population and a sample size k and returns k random members of the population.\n",
    "random_val_pr_country = pd.Series(random.sample(range(1,len(countries)+1),len(countries)),index=countries)\n",
    "random_val_pr_country.sort_values()"
   ]
  },
  {
   "cell_type": "code",
   "execution_count": 95,
   "metadata": {},
   "outputs": [
    {
     "data": {
      "text/plain": [
       "a    3\n",
       "b    6\n",
       "c    9\n",
       "dtype: int64"
      ]
     },
     "execution_count": 95,
     "metadata": {},
     "output_type": "execute_result"
    }
   ],
   "source": [
    "# instansiate Series from dict\n",
    "new_series = pd.Series(dict({'a':3,'b':6,'c':9}))\n",
    "new_series"
   ]
  },
  {
   "cell_type": "markdown",
   "metadata": {},
   "source": [
    "## Exercise Pandas Data Series\n",
    "The CO2 Emission data set above is not updated since 2014\n",
    "1. Create a Pandas Series with emission data from 2014 for each country or region\n",
    "2. Find the 10 Countries/Regions with the highest emissions in 2014 and show emission numbers (reverse sorted)\n",
    "3. Remove if you can those rows that are not countries (regions and aggregated groups)\n",
    "    - Find the 10 countries with highest emissions in 2014\n",
    "4. Plot the emissions of China and USA over time respectively"
   ]
  },
  {
   "cell_type": "markdown",
   "metadata": {
    "slideshow": {
     "slide_type": "subslide"
    }
   },
   "source": [
    "# `DataFrame`\n",
    "\n",
    "In notebook: \"05 Subprocess\" we looked at the CO2 emissions dataset with commandline tools.\n",
    "And we then uses Pandas Series object to plot emissions for Denmark and Uruguay\n",
    "\n",
    "Since `Series` are one-dimensional data structures, we have to create a `DataFrame` if we wanted to combine our two previous `Series` objects `ts_dk` and `ts_ur`.\n",
    "\n",
    "A `DataFrame` is a 2-dimensional labeled data structure with columns of potentially different types. You can think of it like a spreadsheet or SQL table, or **a dict of Series objects**.\n",
    "\n",
    "In the following we concatenate two `Series`to form a `DataFrame`.\n",
    "\n",
    "We will use pandas concat() method [get a good explanation here](https://www.tutorialspoint.com/python_pandas/python_pandas_concatenation.htm)"
   ]
  },
  {
   "cell_type": "code",
   "execution_count": 140,
   "metadata": {},
   "outputs": [
    {
     "data": {
      "text/plain": [
       "1960    4319.73\n",
       "1961    4121.71\n",
       "1962     4011.7\n",
       "1963    4319.73\n",
       "1964    4558.08\n",
       "1965     5522.5\n",
       "1966    5405.16\n",
       "1967    4884.44\n",
       "1968    4884.44\n",
       "1969    5595.84\n",
       "1970    5742.52\n",
       "1971    5808.53\n",
       "1972    6076.22\n",
       "1973    5775.52\n",
       "1974    5683.85\n",
       "1975    5969.88\n",
       "1976    5896.54\n",
       "1977    5650.85\n",
       "1978    5742.52\n",
       "1979     6277.9\n",
       "1980    5837.86\n",
       "1981    5375.82\n",
       "1982    4873.44\n",
       "1983    3817.35\n",
       "1984    3450.65\n",
       "1985    3296.63\n",
       "1986    3179.29\n",
       "1987    3560.66\n",
       "1988    4807.44\n",
       "1989    4880.78\n",
       "1990    3993.36\n",
       "1991    4554.41\n",
       "1992    5170.47\n",
       "1993    4466.41\n",
       "1994     4066.7\n",
       "1995    4591.08\n",
       "1996    5441.83\n",
       "1997    5555.51\n",
       "1998    5687.52\n",
       "1999    6725.28\n",
       "2000    5306.15\n",
       "2001     5089.8\n",
       "2002    4620.42\n",
       "2003    4598.42\n",
       "2004    5610.51\n",
       "2005    5775.52\n",
       "2006    6648.27\n",
       "2007    6002.88\n",
       "2008    8265.42\n",
       "2009    8060.07\n",
       "2010    6387.91\n",
       "2011    7763.04\n",
       "2012    8694.46\n",
       "2013    7587.02\n",
       "2014    6747.28\n",
       "Name: 248, dtype: object"
      ]
     },
     "execution_count": 140,
     "metadata": {},
     "output_type": "execute_result"
    }
   ],
   "source": [
    "# reference to check graph: https://www.klimadebat.dk/grafer_co2udledning.php\n",
    "\n",
    "# recreate the to Series ts_dk and ts_ury from notebook 05-2 without the use of bash commands\n",
    "years = data.columns[4:-1]\n",
    "#data.loc[data['Country Name'=='Denmark']]\n",
    "data.columns\n",
    "list(data['Country Name'])\n",
    "ts_dk = data.loc[data['Country Name']=='Denmark'].iloc[0][4:-6]\n",
    "ts_ury = data.loc[data['Country Name']=='Uruguay'].iloc[0][4:-6]\n",
    "ts_ury"
   ]
  },
  {
   "cell_type": "code",
   "execution_count": 141,
   "metadata": {},
   "outputs": [
    {
     "data": {
      "text/plain": [
       "<matplotlib.axes._subplots.AxesSubplot at 0x7f6a98de3d10>"
      ]
     },
     "execution_count": 141,
     "metadata": {},
     "output_type": "execute_result"
    },
    {
     "data": {
      "image/png": "[encoded data removed]",
      "text/plain": [
       "<Figure size 432x288 with 1 Axes>"
      ]
     },
     "metadata": {
      "needs_background": "light"
     },
     "output_type": "display_data"
    }
   ],
   "source": [
    "ts = pd.concat([ts_dk, ts_ury], axis=1, keys=['DNK', 'URY']) # axis=0 is default (concats like sql UNION) axis=1 concats the data along the x axis\n",
    "\n",
    "ts.plot()"
   ]
  },
  {
   "cell_type": "markdown",
   "metadata": {
    "slideshow": {
     "slide_type": "subslide"
    }
   },
   "source": [
    "More information on `DataFrame`s can be found here:\n",
    "http://pandas.pydata.org/pandas-docs/stable/dsintro.html#dataframe\n",
    "\n",
    "Similar to, we can create `DataFrame`s by giving the data for the values and indexes explicitely."
   ]
  },
  {
   "cell_type": "code",
   "execution_count": 19,
   "metadata": {
    "scrolled": true,
    "slideshow": {
     "slide_type": "subslide"
    }
   },
   "outputs": [
    {
     "name": "stdout",
     "output_type": "stream",
     "text": [
      "DatetimeIndex(['2020-03-02', '2020-03-03', '2020-03-04', '2020-03-05',\n",
      "               '2020-03-06', '2020-03-07'],\n",
      "              dtype='datetime64[ns]', freq='D')\n",
      "                   A         B         C         D\n",
      "2020-03-02 -0.371706 -0.394940 -0.115706  0.951636\n",
      "2020-03-03 -0.335338 -2.228744 -0.523753 -1.043380\n",
      "2020-03-04  0.275832  0.107527  1.017355  0.228126\n",
      "2020-03-05  0.169173  0.153259  0.353109  1.518995\n",
      "2020-03-06 -0.234971 -0.516591  0.217444  0.089838\n",
      "2020-03-07  0.014134  0.887399  0.860532  1.067253\n"
     ]
    }
   ],
   "source": [
    "dates = pd.date_range('20200302', periods=6) # create 6 dates from march 2, 2020\n",
    "df = pd.DataFrame(np.random.randn(6,4), index=dates, columns=list('ABCD')) # use np.random.randn to generate a dataframe of 6 by 4 random numbers\n",
    "print(dates)\n",
    "print(df)\n",
    "#df.describe()"
   ]
  },
  {
   "cell_type": "markdown",
   "metadata": {
    "slideshow": {
     "slide_type": "slide"
    }
   },
   "source": [
    "## Exercise pandas dataframe\n",
    "1. Using the dataframe in the above cell find:\n",
    "    1. Mean, Min, Max values for all 4 columns\n",
    "    2. The 2 dates with the largest and smallest sum (by column)\n",
    "    3. All A's and B's that are positive"
   ]
  },
  {
   "cell_type": "markdown",
   "metadata": {
    "slideshow": {
     "slide_type": "subslide"
    }
   },
   "source": [
    "## Working with real data\n",
    "Since we do not want to work on random example data. We will have a look on the military expenditures of some countries in the world. We will use this data to exemplify usage of Pandas' `DataFrame` methods.\n",
    "\n",
    "Again, we will receive the data from the World Bank.\n",
    "http://data.worldbank.org/indicator/MS.MIL.XPND.CN?locations=DK-CN-US-RU"
   ]
  },
  {
   "cell_type": "code",
   "execution_count": 20,
   "metadata": {
    "slideshow": {
     "slide_type": "slide"
    }
   },
   "outputs": [
    {
     "name": "stdout",
     "output_type": "stream",
     "text": [
      "{'Date': 'Wed, 19 Feb 2020 11:33:31 GMT', 'Content-Type': 'application/zip', 'Content-Length': '40794', 'Connection': 'keep-alive', 'Content-Disposition': 'attachment; filename=API_MS.MIL.XPND.CN_DS2_en_csv_v2_717574.zip', 'Set-Cookie': 'TS01fa65e4=01359ee97675a10f547d031499c9115427ecee5ccc2927292120ee4fcbf7e575395ee918cfc9a7fdbdfbccd4711805478a773da7c2; Path=/', 'Strict-Transport-Security': 'max-age=31536000; includeSubDomains', 'X-XSS-Protection': '1; mode=block', 'X-Content-Type-Options': 'nosniff', 'X-Frame-Options': 'deny'}\n",
      "Downloaded API_MS.MIL.XPND.CN_DS2_en_csv_v2_717574.zip\n"
     ]
    }
   ],
   "source": [
    "import requests\n",
    "\n",
    "url = 'http://api.worldbank.org/v2/en/indicator/MS.MIL.XPND.CN'\n",
    "\n",
    "response = requests.get(url, params={'downloadformat': 'csv'})\n",
    "fname = response.headers['Content-Disposition'].split('=')[1]\n",
    "print(response.headers)\n",
    "\n",
    "if response.ok:  # status_code == 200:\n",
    "    with open(fname, 'wb') as f:\n",
    "        f.write(response.content)   \n",
    "\n",
    "print('Downloaded',fname)\n",
    "#print('Downloaded {}'.format(fname))"
   ]
  },
  {
   "cell_type": "code",
   "execution_count": 149,
   "metadata": {
    "slideshow": {
     "slide_type": "subslide"
    }
   },
   "outputs": [],
   "source": [
    "import os\n",
    "import zipfile\n",
    "\n",
    "\n",
    "zipfile.ZipFile(fname, 'r').extractall('.')\n",
    "os.remove(fname)"
   ]
  },
  {
   "cell_type": "code",
   "execution_count": 150,
   "metadata": {
    "slideshow": {
     "slide_type": "fragment"
    }
   },
   "outputs": [
    {
     "name": "stdout",
     "output_type": "stream",
     "text": [
      "-rw-rw-r-- 1 tha tha  18K Dec 17 11:03 05-1 DateTime.ipynb\n",
      "-rw-rw-r-- 1 tha tha  72K Dec 17 11:32 API_EN.ATM.CO2E.KT_DS2_en_csv_v2_566461.zip\n",
      "-rw-rw-r-- 1 tha tha  466 Dec 17 11:33 Metadata_Indicator_API_EN.ATM.CO2E.KT_DS2_en_csv_v2_566461.csv\n",
      "-rw-rw-r-- 1 tha tha 174K Dec 17 11:33 API_EN.ATM.CO2E.KT_DS2_en_csv_v2_566461.csv\n",
      "-rw-rw-r-- 1 tha tha  31K Dec 17 11:33 Metadata_Country_API_EN.ATM.CO2E.KT_DS2_en_csv_v2_566461.csv\n",
      "-rw-rw-r-- 1 tha tha  77K Dec 17 13:23 05-2 Subprocess.ipynb\n",
      "-rwx------ 1 tha tha  87K Dec 17 14:37 05-3 pandas.ipynb\n",
      "-rw-rw-r-- 1 tha tha 1.7K Dec 17 14:39 Metadata_Indicator_API_MS.MIL.XPND.CN_DS2_en_csv_v2_571916.csv\n",
      "-rw-rw-r-- 1 tha tha  31K Dec 17 14:39 Metadata_Country_API_MS.MIL.XPND.CN_DS2_en_csv_v2_571916.csv\n",
      "-rw-rw-r-- 1 tha tha 138K Dec 17 14:39 API_MS.MIL.XPND.CN_DS2_en_csv_v2_571916.csv\n"
     ]
    }
   ],
   "source": [
    "%%bash\n",
    "ls -ltrh | tail"
   ]
  },
  {
   "cell_type": "code",
   "execution_count": 24,
   "metadata": {
    "slideshow": {
     "slide_type": "subslide"
    }
   },
   "outputs": [
    {
     "data": {
      "text/plain": [
       "'API_MS.MIL.XPND.CN_DS2_en_csv_v2_571916.csv'"
      ]
     },
     "execution_count": 24,
     "metadata": {},
     "output_type": "execute_result"
    }
   ],
   "source": [
    "from glob import glob\n",
    "\n",
    "\n",
    "milit_files = glob('API_MS.MIL.XPND.CN_DS2_en_csv_v2_571916.csv')\n",
    "expenditure_csv = milit_files[0]\n",
    "expenditure_csv"
   ]
  },
  {
   "cell_type": "code",
   "execution_count": 154,
   "metadata": {
    "slideshow": {
     "slide_type": "fragment"
    }
   },
   "outputs": [
    {
     "name": "stdout",
     "output_type": "stream",
     "text": [
      "﻿\"INDICATOR_CODE\",\"INDICATOR_NAME\",\"SOURCE_NOTE\",\"SOURCE_ORGANIZATION\",\r\n",
      "\"MS.MIL.XPND.CN\",\"Military expenditure (current LCU)\",\"Military expenditures data from SIPRI are derived from the NATO definition, which includes all current and capital expenditures on the armed forces, including peacekeeping forces; defense ministries and other government agencies engaged in defense projects; paramilitary forces, if these are judged to be trained and equipped for military operations; and military space activities. Such expenditures include military and civil personnel, including retirement pensions of military personnel and social services for personnel; operation and maintenance; procurement; military research and development; and military aid (in the military expenditures of the donor country). Excluded are civil defense and current expenditures for previous military activities, such as for veterans' benefits, demobilization, conversion, and destruction of weapons. This definition cannot be applied for all countries, however, since that would require much more detailed information than is available about what is included in military budgets and off-budget military expenditure items. (For example, military budgets might or might not cover civil defense, reserves and auxiliary forces, police and paramilitary forces, dual-purpose forces such as military and civilian police, military grants in kind, pensions for military personnel, and social security contributions paid by one part of government to another.)\",\"Stockholm International Peace Research Institute (SIPRI), Yearbook: Armaments, Disarmament and International Security.\",\r\n"
     ]
    }
   ],
   "source": [
    "%%bash\n",
    "head ./Metadata_Indicator_API_MS.MIL.XPND.CN_DS2_en_csv_v2_571916.csv"
   ]
  },
  {
   "cell_type": "markdown",
   "metadata": {
    "slideshow": {
     "slide_type": "subslide"
    }
   },
   "source": [
    "Now, we use Pandas' `read_csv` function to read the downloaded CSV file directly. Note that we have to skip the first four rows as they do not contain data we are interested in, see keyword argument `skiprows=4`.\n",
    "\n",
    "Reading the CSV file like this returns a `DataFrame` directly."
   ]
  },
  {
   "cell_type": "code",
   "execution_count": 25,
   "metadata": {
    "slideshow": {
     "slide_type": "subslide"
    }
   },
   "outputs": [
    {
     "data": {
      "text/html": [
       "<div>\n",
       "<style scoped>\n",
       "    .dataframe tbody tr th:only-of-type {\n",
       "        vertical-align: middle;\n",
       "    }\n",
       "\n",
       "    .dataframe tbody tr th {\n",
       "        vertical-align: top;\n",
       "    }\n",
       "\n",
       "    .dataframe thead th {\n",
       "        text-align: right;\n",
       "    }\n",
       "</style>\n",
       "<table border=\"1\" class=\"dataframe\">\n",
       "  <thead>\n",
       "    <tr style=\"text-align: right;\">\n",
       "      <th></th>\n",
       "      <th>Country Name</th>\n",
       "      <th>Country Code</th>\n",
       "      <th>Indicator Name</th>\n",
       "      <th>Indicator Code</th>\n",
       "      <th>1960</th>\n",
       "      <th>1961</th>\n",
       "      <th>1962</th>\n",
       "      <th>1963</th>\n",
       "      <th>1964</th>\n",
       "      <th>1965</th>\n",
       "      <th>...</th>\n",
       "      <th>2011</th>\n",
       "      <th>2012</th>\n",
       "      <th>2013</th>\n",
       "      <th>2014</th>\n",
       "      <th>2015</th>\n",
       "      <th>2016</th>\n",
       "      <th>2017</th>\n",
       "      <th>2018</th>\n",
       "      <th>2019</th>\n",
       "      <th>Unnamed: 64</th>\n",
       "    </tr>\n",
       "  </thead>\n",
       "  <tbody>\n",
       "    <tr>\n",
       "      <td>0</td>\n",
       "      <td>Aruba</td>\n",
       "      <td>ABW</td>\n",
       "      <td>Military expenditure (current LCU)</td>\n",
       "      <td>MS.MIL.XPND.CN</td>\n",
       "      <td>NaN</td>\n",
       "      <td>NaN</td>\n",
       "      <td>NaN</td>\n",
       "      <td>NaN</td>\n",
       "      <td>NaN</td>\n",
       "      <td>NaN</td>\n",
       "      <td>...</td>\n",
       "      <td>NaN</td>\n",
       "      <td>NaN</td>\n",
       "      <td>NaN</td>\n",
       "      <td>NaN</td>\n",
       "      <td>NaN</td>\n",
       "      <td>NaN</td>\n",
       "      <td>NaN</td>\n",
       "      <td>NaN</td>\n",
       "      <td>NaN</td>\n",
       "      <td>NaN</td>\n",
       "    </tr>\n",
       "    <tr>\n",
       "      <td>1</td>\n",
       "      <td>Afghanistan</td>\n",
       "      <td>AFG</td>\n",
       "      <td>Military expenditure (current LCU)</td>\n",
       "      <td>MS.MIL.XPND.CN</td>\n",
       "      <td>NaN</td>\n",
       "      <td>NaN</td>\n",
       "      <td>NaN</td>\n",
       "      <td>NaN</td>\n",
       "      <td>NaN</td>\n",
       "      <td>NaN</td>\n",
       "      <td>...</td>\n",
       "      <td>1.523050e+10</td>\n",
       "      <td>1.214900e+10</td>\n",
       "      <td>1.202767e+10</td>\n",
       "      <td>1.535600e+10</td>\n",
       "      <td>1.219917e+10</td>\n",
       "      <td>1.261483e+10</td>\n",
       "      <td>1.302083e+10</td>\n",
       "      <td>1.431083e+10</td>\n",
       "      <td>NaN</td>\n",
       "      <td>NaN</td>\n",
       "    </tr>\n",
       "    <tr>\n",
       "      <td>2</td>\n",
       "      <td>Angola</td>\n",
       "      <td>AGO</td>\n",
       "      <td>Military expenditure (current LCU)</td>\n",
       "      <td>MS.MIL.XPND.CN</td>\n",
       "      <td>NaN</td>\n",
       "      <td>NaN</td>\n",
       "      <td>NaN</td>\n",
       "      <td>NaN</td>\n",
       "      <td>NaN</td>\n",
       "      <td>NaN</td>\n",
       "      <td>...</td>\n",
       "      <td>3.418750e+11</td>\n",
       "      <td>3.956800e+11</td>\n",
       "      <td>5.878690e+11</td>\n",
       "      <td>6.730000e+11</td>\n",
       "      <td>4.332160e+11</td>\n",
       "      <td>4.523560e+11</td>\n",
       "      <td>5.081750e+11</td>\n",
       "      <td>5.012240e+11</td>\n",
       "      <td>NaN</td>\n",
       "      <td>NaN</td>\n",
       "    </tr>\n",
       "    <tr>\n",
       "      <td>3</td>\n",
       "      <td>Albania</td>\n",
       "      <td>ALB</td>\n",
       "      <td>Military expenditure (current LCU)</td>\n",
       "      <td>MS.MIL.XPND.CN</td>\n",
       "      <td>NaN</td>\n",
       "      <td>NaN</td>\n",
       "      <td>NaN</td>\n",
       "      <td>NaN</td>\n",
       "      <td>NaN</td>\n",
       "      <td>NaN</td>\n",
       "      <td>...</td>\n",
       "      <td>1.987700e+10</td>\n",
       "      <td>1.982000e+10</td>\n",
       "      <td>1.902200e+10</td>\n",
       "      <td>1.878800e+10</td>\n",
       "      <td>1.667100e+10</td>\n",
       "      <td>1.625000e+10</td>\n",
       "      <td>1.719900e+10</td>\n",
       "      <td>1.949200e+10</td>\n",
       "      <td>NaN</td>\n",
       "      <td>NaN</td>\n",
       "    </tr>\n",
       "    <tr>\n",
       "      <td>4</td>\n",
       "      <td>Andorra</td>\n",
       "      <td>AND</td>\n",
       "      <td>Military expenditure (current LCU)</td>\n",
       "      <td>MS.MIL.XPND.CN</td>\n",
       "      <td>NaN</td>\n",
       "      <td>NaN</td>\n",
       "      <td>NaN</td>\n",
       "      <td>NaN</td>\n",
       "      <td>NaN</td>\n",
       "      <td>NaN</td>\n",
       "      <td>...</td>\n",
       "      <td>NaN</td>\n",
       "      <td>NaN</td>\n",
       "      <td>NaN</td>\n",
       "      <td>NaN</td>\n",
       "      <td>NaN</td>\n",
       "      <td>NaN</td>\n",
       "      <td>NaN</td>\n",
       "      <td>NaN</td>\n",
       "      <td>NaN</td>\n",
       "      <td>NaN</td>\n",
       "    </tr>\n",
       "    <tr>\n",
       "      <td>...</td>\n",
       "      <td>...</td>\n",
       "      <td>...</td>\n",
       "      <td>...</td>\n",
       "      <td>...</td>\n",
       "      <td>...</td>\n",
       "      <td>...</td>\n",
       "      <td>...</td>\n",
       "      <td>...</td>\n",
       "      <td>...</td>\n",
       "      <td>...</td>\n",
       "      <td>...</td>\n",
       "      <td>...</td>\n",
       "      <td>...</td>\n",
       "      <td>...</td>\n",
       "      <td>...</td>\n",
       "      <td>...</td>\n",
       "      <td>...</td>\n",
       "      <td>...</td>\n",
       "      <td>...</td>\n",
       "      <td>...</td>\n",
       "      <td>...</td>\n",
       "    </tr>\n",
       "    <tr>\n",
       "      <td>259</td>\n",
       "      <td>Kosovo</td>\n",
       "      <td>XKX</td>\n",
       "      <td>Military expenditure (current LCU)</td>\n",
       "      <td>MS.MIL.XPND.CN</td>\n",
       "      <td>NaN</td>\n",
       "      <td>NaN</td>\n",
       "      <td>NaN</td>\n",
       "      <td>NaN</td>\n",
       "      <td>NaN</td>\n",
       "      <td>NaN</td>\n",
       "      <td>...</td>\n",
       "      <td>3.666471e+07</td>\n",
       "      <td>3.377049e+07</td>\n",
       "      <td>3.660178e+07</td>\n",
       "      <td>4.038172e+07</td>\n",
       "      <td>4.507072e+07</td>\n",
       "      <td>4.696200e+07</td>\n",
       "      <td>5.103600e+07</td>\n",
       "      <td>5.366700e+07</td>\n",
       "      <td>NaN</td>\n",
       "      <td>NaN</td>\n",
       "    </tr>\n",
       "    <tr>\n",
       "      <td>260</td>\n",
       "      <td>Yemen, Rep.</td>\n",
       "      <td>YEM</td>\n",
       "      <td>Military expenditure (current LCU)</td>\n",
       "      <td>MS.MIL.XPND.CN</td>\n",
       "      <td>NaN</td>\n",
       "      <td>NaN</td>\n",
       "      <td>NaN</td>\n",
       "      <td>NaN</td>\n",
       "      <td>NaN</td>\n",
       "      <td>NaN</td>\n",
       "      <td>...</td>\n",
       "      <td>3.447000e+11</td>\n",
       "      <td>3.470000e+11</td>\n",
       "      <td>3.543000e+11</td>\n",
       "      <td>3.685000e+11</td>\n",
       "      <td>NaN</td>\n",
       "      <td>NaN</td>\n",
       "      <td>NaN</td>\n",
       "      <td>NaN</td>\n",
       "      <td>NaN</td>\n",
       "      <td>NaN</td>\n",
       "    </tr>\n",
       "    <tr>\n",
       "      <td>261</td>\n",
       "      <td>South Africa</td>\n",
       "      <td>ZAF</td>\n",
       "      <td>Military expenditure (current LCU)</td>\n",
       "      <td>MS.MIL.XPND.CN</td>\n",
       "      <td>50000000.0</td>\n",
       "      <td>81250000.0</td>\n",
       "      <td>133000000.0</td>\n",
       "      <td>135000000.0</td>\n",
       "      <td>194000000.0</td>\n",
       "      <td>206750000.0</td>\n",
       "      <td>...</td>\n",
       "      <td>3.335875e+10</td>\n",
       "      <td>3.685940e+10</td>\n",
       "      <td>3.976155e+10</td>\n",
       "      <td>4.224380e+10</td>\n",
       "      <td>4.451422e+10</td>\n",
       "      <td>4.666570e+10</td>\n",
       "      <td>4.854898e+10</td>\n",
       "      <td>4.821218e+10</td>\n",
       "      <td>NaN</td>\n",
       "      <td>NaN</td>\n",
       "    </tr>\n",
       "    <tr>\n",
       "      <td>262</td>\n",
       "      <td>Zambia</td>\n",
       "      <td>ZMB</td>\n",
       "      <td>Military expenditure (current LCU)</td>\n",
       "      <td>MS.MIL.XPND.CN</td>\n",
       "      <td>NaN</td>\n",
       "      <td>NaN</td>\n",
       "      <td>NaN</td>\n",
       "      <td>NaN</td>\n",
       "      <td>NaN</td>\n",
       "      <td>NaN</td>\n",
       "      <td>...</td>\n",
       "      <td>1.502500e+09</td>\n",
       "      <td>1.782500e+09</td>\n",
       "      <td>2.057700e+09</td>\n",
       "      <td>2.729418e+09</td>\n",
       "      <td>3.215100e+09</td>\n",
       "      <td>3.088700e+09</td>\n",
       "      <td>3.204640e+09</td>\n",
       "      <td>3.955630e+09</td>\n",
       "      <td>NaN</td>\n",
       "      <td>NaN</td>\n",
       "    </tr>\n",
       "    <tr>\n",
       "      <td>263</td>\n",
       "      <td>Zimbabwe</td>\n",
       "      <td>ZWE</td>\n",
       "      <td>Military expenditure (current LCU)</td>\n",
       "      <td>MS.MIL.XPND.CN</td>\n",
       "      <td>NaN</td>\n",
       "      <td>NaN</td>\n",
       "      <td>NaN</td>\n",
       "      <td>NaN</td>\n",
       "      <td>NaN</td>\n",
       "      <td>15600000.0</td>\n",
       "      <td>...</td>\n",
       "      <td>1.984380e+08</td>\n",
       "      <td>3.182720e+08</td>\n",
       "      <td>3.567000e+08</td>\n",
       "      <td>3.681000e+08</td>\n",
       "      <td>3.766770e+08</td>\n",
       "      <td>3.580650e+08</td>\n",
       "      <td>3.405220e+08</td>\n",
       "      <td>4.203640e+08</td>\n",
       "      <td>NaN</td>\n",
       "      <td>NaN</td>\n",
       "    </tr>\n",
       "  </tbody>\n",
       "</table>\n",
       "<p>264 rows × 65 columns</p>\n",
       "</div>"
      ],
      "text/plain": [
       "     Country Name Country Code                      Indicator Name  \\\n",
       "0           Aruba          ABW  Military expenditure (current LCU)   \n",
       "1     Afghanistan          AFG  Military expenditure (current LCU)   \n",
       "2          Angola          AGO  Military expenditure (current LCU)   \n",
       "3         Albania          ALB  Military expenditure (current LCU)   \n",
       "4         Andorra          AND  Military expenditure (current LCU)   \n",
       "..            ...          ...                                 ...   \n",
       "259        Kosovo          XKX  Military expenditure (current LCU)   \n",
       "260   Yemen, Rep.          YEM  Military expenditure (current LCU)   \n",
       "261  South Africa          ZAF  Military expenditure (current LCU)   \n",
       "262        Zambia          ZMB  Military expenditure (current LCU)   \n",
       "263      Zimbabwe          ZWE  Military expenditure (current LCU)   \n",
       "\n",
       "     Indicator Code        1960        1961         1962         1963  \\\n",
       "0    MS.MIL.XPND.CN         NaN         NaN          NaN          NaN   \n",
       "1    MS.MIL.XPND.CN         NaN         NaN          NaN          NaN   \n",
       "2    MS.MIL.XPND.CN         NaN         NaN          NaN          NaN   \n",
       "3    MS.MIL.XPND.CN         NaN         NaN          NaN          NaN   \n",
       "4    MS.MIL.XPND.CN         NaN         NaN          NaN          NaN   \n",
       "..              ...         ...         ...          ...          ...   \n",
       "259  MS.MIL.XPND.CN         NaN         NaN          NaN          NaN   \n",
       "260  MS.MIL.XPND.CN         NaN         NaN          NaN          NaN   \n",
       "261  MS.MIL.XPND.CN  50000000.0  81250000.0  133000000.0  135000000.0   \n",
       "262  MS.MIL.XPND.CN         NaN         NaN          NaN          NaN   \n",
       "263  MS.MIL.XPND.CN         NaN         NaN          NaN          NaN   \n",
       "\n",
       "            1964         1965  ...          2011          2012          2013  \\\n",
       "0            NaN          NaN  ...           NaN           NaN           NaN   \n",
       "1            NaN          NaN  ...  1.523050e+10  1.214900e+10  1.202767e+10   \n",
       "2            NaN          NaN  ...  3.418750e+11  3.956800e+11  5.878690e+11   \n",
       "3            NaN          NaN  ...  1.987700e+10  1.982000e+10  1.902200e+10   \n",
       "4            NaN          NaN  ...           NaN           NaN           NaN   \n",
       "..           ...          ...  ...           ...           ...           ...   \n",
       "259          NaN          NaN  ...  3.666471e+07  3.377049e+07  3.660178e+07   \n",
       "260          NaN          NaN  ...  3.447000e+11  3.470000e+11  3.543000e+11   \n",
       "261  194000000.0  206750000.0  ...  3.335875e+10  3.685940e+10  3.976155e+10   \n",
       "262          NaN          NaN  ...  1.502500e+09  1.782500e+09  2.057700e+09   \n",
       "263          NaN   15600000.0  ...  1.984380e+08  3.182720e+08  3.567000e+08   \n",
       "\n",
       "             2014          2015          2016          2017          2018  \\\n",
       "0             NaN           NaN           NaN           NaN           NaN   \n",
       "1    1.535600e+10  1.219917e+10  1.261483e+10  1.302083e+10  1.431083e+10   \n",
       "2    6.730000e+11  4.332160e+11  4.523560e+11  5.081750e+11  5.012240e+11   \n",
       "3    1.878800e+10  1.667100e+10  1.625000e+10  1.719900e+10  1.949200e+10   \n",
       "4             NaN           NaN           NaN           NaN           NaN   \n",
       "..            ...           ...           ...           ...           ...   \n",
       "259  4.038172e+07  4.507072e+07  4.696200e+07  5.103600e+07  5.366700e+07   \n",
       "260  3.685000e+11           NaN           NaN           NaN           NaN   \n",
       "261  4.224380e+10  4.451422e+10  4.666570e+10  4.854898e+10  4.821218e+10   \n",
       "262  2.729418e+09  3.215100e+09  3.088700e+09  3.204640e+09  3.955630e+09   \n",
       "263  3.681000e+08  3.766770e+08  3.580650e+08  3.405220e+08  4.203640e+08   \n",
       "\n",
       "     2019  Unnamed: 64  \n",
       "0     NaN          NaN  \n",
       "1     NaN          NaN  \n",
       "2     NaN          NaN  \n",
       "3     NaN          NaN  \n",
       "4     NaN          NaN  \n",
       "..    ...          ...  \n",
       "259   NaN          NaN  \n",
       "260   NaN          NaN  \n",
       "261   NaN          NaN  \n",
       "262   NaN          NaN  \n",
       "263   NaN          NaN  \n",
       "\n",
       "[264 rows x 65 columns]"
      ]
     },
     "execution_count": 25,
     "metadata": {},
     "output_type": "execute_result"
    }
   ],
   "source": [
    "import pandas as pd\n",
    "\n",
    "\n",
    "expenditures = pd.read_csv(expenditure_csv, skiprows=4)\n",
    "expenditures"
   ]
  },
  {
   "cell_type": "markdown",
   "metadata": {
    "slideshow": {
     "slide_type": "subslide"
    }
   },
   "source": [
    "## Viewing Data"
   ]
  },
  {
   "cell_type": "code",
   "execution_count": 156,
   "metadata": {},
   "outputs": [
    {
     "data": {
      "text/html": [
       "<div>\n",
       "<style scoped>\n",
       "    .dataframe tbody tr th:only-of-type {\n",
       "        vertical-align: middle;\n",
       "    }\n",
       "\n",
       "    .dataframe tbody tr th {\n",
       "        vertical-align: top;\n",
       "    }\n",
       "\n",
       "    .dataframe thead th {\n",
       "        text-align: right;\n",
       "    }\n",
       "</style>\n",
       "<table border=\"1\" class=\"dataframe\">\n",
       "  <thead>\n",
       "    <tr style=\"text-align: right;\">\n",
       "      <th></th>\n",
       "      <th>Country Name</th>\n",
       "      <th>Country Code</th>\n",
       "      <th>Indicator Name</th>\n",
       "      <th>Indicator Code</th>\n",
       "      <th>1960</th>\n",
       "      <th>1961</th>\n",
       "      <th>1962</th>\n",
       "      <th>1963</th>\n",
       "      <th>1964</th>\n",
       "      <th>1965</th>\n",
       "      <th>...</th>\n",
       "      <th>2011</th>\n",
       "      <th>2012</th>\n",
       "      <th>2013</th>\n",
       "      <th>2014</th>\n",
       "      <th>2015</th>\n",
       "      <th>2016</th>\n",
       "      <th>2017</th>\n",
       "      <th>2018</th>\n",
       "      <th>2019</th>\n",
       "      <th>Unnamed: 64</th>\n",
       "    </tr>\n",
       "  </thead>\n",
       "  <tbody>\n",
       "    <tr>\n",
       "      <td>0</td>\n",
       "      <td>Aruba</td>\n",
       "      <td>ABW</td>\n",
       "      <td>Military expenditure (current LCU)</td>\n",
       "      <td>MS.MIL.XPND.CN</td>\n",
       "      <td>NaN</td>\n",
       "      <td>NaN</td>\n",
       "      <td>NaN</td>\n",
       "      <td>NaN</td>\n",
       "      <td>NaN</td>\n",
       "      <td>NaN</td>\n",
       "      <td>...</td>\n",
       "      <td>NaN</td>\n",
       "      <td>NaN</td>\n",
       "      <td>NaN</td>\n",
       "      <td>NaN</td>\n",
       "      <td>NaN</td>\n",
       "      <td>NaN</td>\n",
       "      <td>NaN</td>\n",
       "      <td>NaN</td>\n",
       "      <td>NaN</td>\n",
       "      <td>NaN</td>\n",
       "    </tr>\n",
       "    <tr>\n",
       "      <td>1</td>\n",
       "      <td>Afghanistan</td>\n",
       "      <td>AFG</td>\n",
       "      <td>Military expenditure (current LCU)</td>\n",
       "      <td>MS.MIL.XPND.CN</td>\n",
       "      <td>NaN</td>\n",
       "      <td>NaN</td>\n",
       "      <td>NaN</td>\n",
       "      <td>NaN</td>\n",
       "      <td>NaN</td>\n",
       "      <td>NaN</td>\n",
       "      <td>...</td>\n",
       "      <td>1.523050e+10</td>\n",
       "      <td>1.214900e+10</td>\n",
       "      <td>1.202767e+10</td>\n",
       "      <td>1.535600e+10</td>\n",
       "      <td>1.219917e+10</td>\n",
       "      <td>1.261483e+10</td>\n",
       "      <td>1.302083e+10</td>\n",
       "      <td>1.431083e+10</td>\n",
       "      <td>NaN</td>\n",
       "      <td>NaN</td>\n",
       "    </tr>\n",
       "    <tr>\n",
       "      <td>2</td>\n",
       "      <td>Angola</td>\n",
       "      <td>AGO</td>\n",
       "      <td>Military expenditure (current LCU)</td>\n",
       "      <td>MS.MIL.XPND.CN</td>\n",
       "      <td>NaN</td>\n",
       "      <td>NaN</td>\n",
       "      <td>NaN</td>\n",
       "      <td>NaN</td>\n",
       "      <td>NaN</td>\n",
       "      <td>NaN</td>\n",
       "      <td>...</td>\n",
       "      <td>3.418750e+11</td>\n",
       "      <td>3.956800e+11</td>\n",
       "      <td>5.878690e+11</td>\n",
       "      <td>6.730000e+11</td>\n",
       "      <td>4.332160e+11</td>\n",
       "      <td>4.523560e+11</td>\n",
       "      <td>5.081750e+11</td>\n",
       "      <td>5.012240e+11</td>\n",
       "      <td>NaN</td>\n",
       "      <td>NaN</td>\n",
       "    </tr>\n",
       "    <tr>\n",
       "      <td>3</td>\n",
       "      <td>Albania</td>\n",
       "      <td>ALB</td>\n",
       "      <td>Military expenditure (current LCU)</td>\n",
       "      <td>MS.MIL.XPND.CN</td>\n",
       "      <td>NaN</td>\n",
       "      <td>NaN</td>\n",
       "      <td>NaN</td>\n",
       "      <td>NaN</td>\n",
       "      <td>NaN</td>\n",
       "      <td>NaN</td>\n",
       "      <td>...</td>\n",
       "      <td>1.987700e+10</td>\n",
       "      <td>1.982000e+10</td>\n",
       "      <td>1.902200e+10</td>\n",
       "      <td>1.878800e+10</td>\n",
       "      <td>1.667100e+10</td>\n",
       "      <td>1.625000e+10</td>\n",
       "      <td>1.719900e+10</td>\n",
       "      <td>1.949200e+10</td>\n",
       "      <td>NaN</td>\n",
       "      <td>NaN</td>\n",
       "    </tr>\n",
       "    <tr>\n",
       "      <td>4</td>\n",
       "      <td>Andorra</td>\n",
       "      <td>AND</td>\n",
       "      <td>Military expenditure (current LCU)</td>\n",
       "      <td>MS.MIL.XPND.CN</td>\n",
       "      <td>NaN</td>\n",
       "      <td>NaN</td>\n",
       "      <td>NaN</td>\n",
       "      <td>NaN</td>\n",
       "      <td>NaN</td>\n",
       "      <td>NaN</td>\n",
       "      <td>...</td>\n",
       "      <td>NaN</td>\n",
       "      <td>NaN</td>\n",
       "      <td>NaN</td>\n",
       "      <td>NaN</td>\n",
       "      <td>NaN</td>\n",
       "      <td>NaN</td>\n",
       "      <td>NaN</td>\n",
       "      <td>NaN</td>\n",
       "      <td>NaN</td>\n",
       "      <td>NaN</td>\n",
       "    </tr>\n",
       "  </tbody>\n",
       "</table>\n",
       "<p>5 rows × 65 columns</p>\n",
       "</div>"
      ],
      "text/plain": [
       "  Country Name Country Code                      Indicator Name  \\\n",
       "0        Aruba          ABW  Military expenditure (current LCU)   \n",
       "1  Afghanistan          AFG  Military expenditure (current LCU)   \n",
       "2       Angola          AGO  Military expenditure (current LCU)   \n",
       "3      Albania          ALB  Military expenditure (current LCU)   \n",
       "4      Andorra          AND  Military expenditure (current LCU)   \n",
       "\n",
       "   Indicator Code  1960  1961  1962  1963  1964  1965  ...          2011  \\\n",
       "0  MS.MIL.XPND.CN   NaN   NaN   NaN   NaN   NaN   NaN  ...           NaN   \n",
       "1  MS.MIL.XPND.CN   NaN   NaN   NaN   NaN   NaN   NaN  ...  1.523050e+10   \n",
       "2  MS.MIL.XPND.CN   NaN   NaN   NaN   NaN   NaN   NaN  ...  3.418750e+11   \n",
       "3  MS.MIL.XPND.CN   NaN   NaN   NaN   NaN   NaN   NaN  ...  1.987700e+10   \n",
       "4  MS.MIL.XPND.CN   NaN   NaN   NaN   NaN   NaN   NaN  ...           NaN   \n",
       "\n",
       "           2012          2013          2014          2015          2016  \\\n",
       "0           NaN           NaN           NaN           NaN           NaN   \n",
       "1  1.214900e+10  1.202767e+10  1.535600e+10  1.219917e+10  1.261483e+10   \n",
       "2  3.956800e+11  5.878690e+11  6.730000e+11  4.332160e+11  4.523560e+11   \n",
       "3  1.982000e+10  1.902200e+10  1.878800e+10  1.667100e+10  1.625000e+10   \n",
       "4           NaN           NaN           NaN           NaN           NaN   \n",
       "\n",
       "           2017          2018  2019  Unnamed: 64  \n",
       "0           NaN           NaN   NaN          NaN  \n",
       "1  1.302083e+10  1.431083e+10   NaN          NaN  \n",
       "2  5.081750e+11  5.012240e+11   NaN          NaN  \n",
       "3  1.719900e+10  1.949200e+10   NaN          NaN  \n",
       "4           NaN           NaN   NaN          NaN  \n",
       "\n",
       "[5 rows x 65 columns]"
      ]
     },
     "execution_count": 156,
     "metadata": {},
     "output_type": "execute_result"
    }
   ],
   "source": [
    "expenditures.head()"
   ]
  },
  {
   "cell_type": "code",
   "execution_count": null,
   "metadata": {},
   "outputs": [],
   "source": [
    "expenditures.tail()"
   ]
  },
  {
   "cell_type": "code",
   "execution_count": null,
   "metadata": {},
   "outputs": [],
   "source": [
    "expenditures.index"
   ]
  },
  {
   "cell_type": "code",
   "execution_count": null,
   "metadata": {},
   "outputs": [],
   "source": [
    "expenditures.columns"
   ]
  },
  {
   "cell_type": "code",
   "execution_count": 157,
   "metadata": {},
   "outputs": [
    {
     "data": {
      "text/plain": [
       "array([['Aruba', 'ABW', 'Military expenditure (current LCU)', ..., nan,\n",
       "        nan, nan],\n",
       "       ['Afghanistan', 'AFG', 'Military expenditure (current LCU)', ...,\n",
       "        14310833333.3333, nan, nan],\n",
       "       ['Angola', 'AGO', 'Military expenditure (current LCU)', ...,\n",
       "        501224000000.0, nan, nan],\n",
       "       ...,\n",
       "       ['South Africa', 'ZAF', 'Military expenditure (current LCU)', ...,\n",
       "        48212175000.0, nan, nan],\n",
       "       ['Zambia', 'ZMB', 'Military expenditure (current LCU)', ...,\n",
       "        3955630000.0, nan, nan],\n",
       "       ['Zimbabwe', 'ZWE', 'Military expenditure (current LCU)', ...,\n",
       "        420364000.0, nan, nan]], dtype=object)"
      ]
     },
     "execution_count": 157,
     "metadata": {},
     "output_type": "execute_result"
    }
   ],
   "source": [
    "expenditures.values"
   ]
  },
  {
   "cell_type": "markdown",
   "metadata": {
    "slideshow": {
     "slide_type": "subslide"
    }
   },
   "source": [
    "## Selection of Data in a `DataFrame`\n",
    "\n",
    "### Selection by Column Name\n"
   ]
  },
  {
   "cell_type": "code",
   "execution_count": 43,
   "metadata": {},
   "outputs": [
    {
     "data": {
      "text/plain": [
       "264"
      ]
     },
     "execution_count": 43,
     "metadata": {},
     "output_type": "execute_result"
    }
   ],
   "source": [
    "len(list(expenditures['Country Name']))"
   ]
  },
  {
   "cell_type": "code",
   "execution_count": 44,
   "metadata": {},
   "outputs": [
    {
     "data": {
      "text/plain": [
       "['ABW',\n",
       " 'AFG',\n",
       " 'AGO',\n",
       " 'ALB',\n",
       " 'AND',\n",
       " 'ARB',\n",
       " 'ARE',\n",
       " 'ARG',\n",
       " 'ARM',\n",
       " 'ASM',\n",
       " 'ATG',\n",
       " 'AUS',\n",
       " 'AUT',\n",
       " 'AZE',\n",
       " 'BDI',\n",
       " 'BEL',\n",
       " 'BEN',\n",
       " 'BFA',\n",
       " 'BGD',\n",
       " 'BGR',\n",
       " 'BHR',\n",
       " 'BHS',\n",
       " 'BIH',\n",
       " 'BLR',\n",
       " 'BLZ',\n",
       " 'BMU',\n",
       " 'BOL',\n",
       " 'BRA',\n",
       " 'BRB',\n",
       " 'BRN',\n",
       " 'BTN',\n",
       " 'BWA',\n",
       " 'CAF',\n",
       " 'CAN',\n",
       " 'CEB',\n",
       " 'CHE',\n",
       " 'CHI',\n",
       " 'CHL',\n",
       " 'CHN',\n",
       " 'CIV',\n",
       " 'CMR',\n",
       " 'COD',\n",
       " 'COG',\n",
       " 'COL',\n",
       " 'COM',\n",
       " 'CPV',\n",
       " 'CRI',\n",
       " 'CSS',\n",
       " 'CUB',\n",
       " 'CUW',\n",
       " 'CYM',\n",
       " 'CYP',\n",
       " 'CZE',\n",
       " 'DEU',\n",
       " 'DJI',\n",
       " 'DMA',\n",
       " 'DNK',\n",
       " 'DOM',\n",
       " 'DZA',\n",
       " 'EAP',\n",
       " 'EAR',\n",
       " 'EAS',\n",
       " 'ECA',\n",
       " 'ECS',\n",
       " 'ECU',\n",
       " 'EGY',\n",
       " 'EMU',\n",
       " 'ERI',\n",
       " 'ESP',\n",
       " 'EST',\n",
       " 'ETH',\n",
       " 'EUU',\n",
       " 'FCS',\n",
       " 'FIN',\n",
       " 'FJI',\n",
       " 'FRA',\n",
       " 'FRO',\n",
       " 'FSM',\n",
       " 'GAB',\n",
       " 'GBR',\n",
       " 'GEO',\n",
       " 'GHA',\n",
       " 'GIB',\n",
       " 'GIN',\n",
       " 'GMB',\n",
       " 'GNB',\n",
       " 'GNQ',\n",
       " 'GRC',\n",
       " 'GRD',\n",
       " 'GRL',\n",
       " 'GTM',\n",
       " 'GUM',\n",
       " 'GUY',\n",
       " 'HIC',\n",
       " 'HKG',\n",
       " 'HND',\n",
       " 'HPC',\n",
       " 'HRV',\n",
       " 'HTI',\n",
       " 'HUN',\n",
       " 'IBD',\n",
       " 'IBT',\n",
       " 'IDA',\n",
       " 'IDB',\n",
       " 'IDN',\n",
       " 'IDX',\n",
       " 'IMN',\n",
       " 'IND',\n",
       " 'INX',\n",
       " 'IRL',\n",
       " 'IRN',\n",
       " 'IRQ',\n",
       " 'ISL',\n",
       " 'ISR',\n",
       " 'ITA',\n",
       " 'JAM',\n",
       " 'JOR',\n",
       " 'JPN',\n",
       " 'KAZ',\n",
       " 'KEN',\n",
       " 'KGZ',\n",
       " 'KHM',\n",
       " 'KIR',\n",
       " 'KNA',\n",
       " 'KOR',\n",
       " 'KWT',\n",
       " 'LAC',\n",
       " 'LAO',\n",
       " 'LBN',\n",
       " 'LBR',\n",
       " 'LBY',\n",
       " 'LCA',\n",
       " 'LCN',\n",
       " 'LDC',\n",
       " 'LIC',\n",
       " 'LIE',\n",
       " 'LKA',\n",
       " 'LMC',\n",
       " 'LMY',\n",
       " 'LSO',\n",
       " 'LTE',\n",
       " 'LTU',\n",
       " 'LUX',\n",
       " 'LVA',\n",
       " 'MAC',\n",
       " 'MAF',\n",
       " 'MAR',\n",
       " 'MCO',\n",
       " 'MDA',\n",
       " 'MDG',\n",
       " 'MDV',\n",
       " 'MEA',\n",
       " 'MEX',\n",
       " 'MHL',\n",
       " 'MIC',\n",
       " 'MKD',\n",
       " 'MLI',\n",
       " 'MLT',\n",
       " 'MMR',\n",
       " 'MNA',\n",
       " 'MNE',\n",
       " 'MNG',\n",
       " 'MNP',\n",
       " 'MOZ',\n",
       " 'MRT',\n",
       " 'MUS',\n",
       " 'MWI',\n",
       " 'MYS',\n",
       " 'NAC',\n",
       " 'NAM',\n",
       " 'NCL',\n",
       " 'NER',\n",
       " 'NGA',\n",
       " 'NIC',\n",
       " 'NLD',\n",
       " 'NOR',\n",
       " 'NPL',\n",
       " 'NRU',\n",
       " 'NZL',\n",
       " 'OED',\n",
       " 'OMN',\n",
       " 'OSS',\n",
       " 'PAK',\n",
       " 'PAN',\n",
       " 'PER',\n",
       " 'PHL',\n",
       " 'PLW',\n",
       " 'PNG',\n",
       " 'POL',\n",
       " 'PRE',\n",
       " 'PRI',\n",
       " 'PRK',\n",
       " 'PRT',\n",
       " 'PRY',\n",
       " 'PSE',\n",
       " 'PSS',\n",
       " 'PST',\n",
       " 'PYF',\n",
       " 'QAT',\n",
       " 'ROU',\n",
       " 'RUS',\n",
       " 'RWA',\n",
       " 'SAS',\n",
       " 'SAU',\n",
       " 'SDN',\n",
       " 'SEN',\n",
       " 'SGP',\n",
       " 'SLB',\n",
       " 'SLE',\n",
       " 'SLV',\n",
       " 'SMR',\n",
       " 'SOM',\n",
       " 'SRB',\n",
       " 'SSA',\n",
       " 'SSD',\n",
       " 'SSF',\n",
       " 'SST',\n",
       " 'STP',\n",
       " 'SUR',\n",
       " 'SVK',\n",
       " 'SVN',\n",
       " 'SWE',\n",
       " 'SWZ',\n",
       " 'SXM',\n",
       " 'SYC',\n",
       " 'SYR',\n",
       " 'TCA',\n",
       " 'TCD',\n",
       " 'TEA',\n",
       " 'TEC',\n",
       " 'TGO',\n",
       " 'THA',\n",
       " 'TJK',\n",
       " 'TKM',\n",
       " 'TLA',\n",
       " 'TLS',\n",
       " 'TMN',\n",
       " 'TON',\n",
       " 'TSA',\n",
       " 'TSS',\n",
       " 'TTO',\n",
       " 'TUN',\n",
       " 'TUR',\n",
       " 'TUV',\n",
       " 'TZA',\n",
       " 'UGA',\n",
       " 'UKR',\n",
       " 'UMC',\n",
       " 'URY',\n",
       " 'USA',\n",
       " 'UZB',\n",
       " 'VCT',\n",
       " 'VEN',\n",
       " 'VGB',\n",
       " 'VIR',\n",
       " 'VNM',\n",
       " 'VUT',\n",
       " 'WLD',\n",
       " 'WSM',\n",
       " 'XKX',\n",
       " 'YEM',\n",
       " 'ZAF',\n",
       " 'ZMB',\n",
       " 'ZWE']"
      ]
     },
     "execution_count": 44,
     "metadata": {},
     "output_type": "execute_result"
    }
   ],
   "source": [
    "list(expenditures['Country Code'])"
   ]
  },
  {
   "cell_type": "markdown",
   "metadata": {
    "slideshow": {
     "slide_type": "subslide"
    }
   },
   "source": [
    "### Selection by Indexes\n",
    "\n",
    "In the following we index the third row directly."
   ]
  },
  {
   "cell_type": "code",
   "execution_count": 159,
   "metadata": {},
   "outputs": [
    {
     "name": "stdout",
     "output_type": "stream",
     "text": [
      "Country Name                                 Albania\n",
      "Country Code                                     ALB\n",
      "Indicator Name    Military expenditure (current LCU)\n",
      "Indicator Code                        MS.MIL.XPND.CN\n",
      "1960                                             NaN\n",
      "                                 ...                \n",
      "2016                                       1.625e+10\n",
      "2017                                      1.7199e+10\n",
      "2018                                      1.9492e+10\n",
      "2019                                             NaN\n",
      "Unnamed: 64                                      NaN\n",
      "Name: 3, Length: 65, dtype: object\n"
     ]
    }
   ],
   "source": [
    "# get row 3\n",
    "albania = expenditures.iloc[3]\n",
    "print(albania)"
   ]
  },
  {
   "cell_type": "code",
   "execution_count": 160,
   "metadata": {},
   "outputs": [
    {
     "data": {
      "text/plain": [
       "Country Name                                 Albania\n",
       "Country Code                                     ALB\n",
       "Indicator Name    Military expenditure (current LCU)\n",
       "Indicator Code                        MS.MIL.XPND.CN\n",
       "1960                                             NaN\n",
       "                                 ...                \n",
       "2016                                       1.625e+10\n",
       "2017                                      1.7199e+10\n",
       "2018                                      1.9492e+10\n",
       "2019                                             NaN\n",
       "Unnamed: 64                                      NaN\n",
       "Name: 3, Length: 65, dtype: object"
      ]
     },
     "execution_count": 160,
     "metadata": {},
     "output_type": "execute_result"
    }
   ],
   "source": [
    "# using .loc to extract by label (row or column)\n",
    "expenditures.loc[3]"
   ]
  },
  {
   "cell_type": "code",
   "execution_count": 161,
   "metadata": {},
   "outputs": [
    {
     "data": {
      "text/html": [
       "<div>\n",
       "<style scoped>\n",
       "    .dataframe tbody tr th:only-of-type {\n",
       "        vertical-align: middle;\n",
       "    }\n",
       "\n",
       "    .dataframe tbody tr th {\n",
       "        vertical-align: top;\n",
       "    }\n",
       "\n",
       "    .dataframe thead th {\n",
       "        text-align: right;\n",
       "    }\n",
       "</style>\n",
       "<table border=\"1\" class=\"dataframe\">\n",
       "  <thead>\n",
       "    <tr style=\"text-align: right;\">\n",
       "      <th></th>\n",
       "      <th>Country Name</th>\n",
       "      <th>Country Code</th>\n",
       "      <th>Indicator Name</th>\n",
       "      <th>Indicator Code</th>\n",
       "      <th>1960</th>\n",
       "      <th>1961</th>\n",
       "      <th>1962</th>\n",
       "      <th>1963</th>\n",
       "      <th>1964</th>\n",
       "      <th>1965</th>\n",
       "      <th>...</th>\n",
       "      <th>2011</th>\n",
       "      <th>2012</th>\n",
       "      <th>2013</th>\n",
       "      <th>2014</th>\n",
       "      <th>2015</th>\n",
       "      <th>2016</th>\n",
       "      <th>2017</th>\n",
       "      <th>2018</th>\n",
       "      <th>2019</th>\n",
       "      <th>Unnamed: 64</th>\n",
       "    </tr>\n",
       "  </thead>\n",
       "  <tbody>\n",
       "    <tr>\n",
       "      <td>3</td>\n",
       "      <td>Albania</td>\n",
       "      <td>ALB</td>\n",
       "      <td>Military expenditure (current LCU)</td>\n",
       "      <td>MS.MIL.XPND.CN</td>\n",
       "      <td>NaN</td>\n",
       "      <td>NaN</td>\n",
       "      <td>NaN</td>\n",
       "      <td>NaN</td>\n",
       "      <td>NaN</td>\n",
       "      <td>NaN</td>\n",
       "      <td>...</td>\n",
       "      <td>1.987700e+10</td>\n",
       "      <td>1.982000e+10</td>\n",
       "      <td>1.902200e+10</td>\n",
       "      <td>1.878800e+10</td>\n",
       "      <td>1.667100e+10</td>\n",
       "      <td>1.625000e+10</td>\n",
       "      <td>1.719900e+10</td>\n",
       "      <td>1.949200e+10</td>\n",
       "      <td>NaN</td>\n",
       "      <td>NaN</td>\n",
       "    </tr>\n",
       "    <tr>\n",
       "      <td>4</td>\n",
       "      <td>Andorra</td>\n",
       "      <td>AND</td>\n",
       "      <td>Military expenditure (current LCU)</td>\n",
       "      <td>MS.MIL.XPND.CN</td>\n",
       "      <td>NaN</td>\n",
       "      <td>NaN</td>\n",
       "      <td>NaN</td>\n",
       "      <td>NaN</td>\n",
       "      <td>NaN</td>\n",
       "      <td>NaN</td>\n",
       "      <td>...</td>\n",
       "      <td>NaN</td>\n",
       "      <td>NaN</td>\n",
       "      <td>NaN</td>\n",
       "      <td>NaN</td>\n",
       "      <td>NaN</td>\n",
       "      <td>NaN</td>\n",
       "      <td>NaN</td>\n",
       "      <td>NaN</td>\n",
       "      <td>NaN</td>\n",
       "      <td>NaN</td>\n",
       "    </tr>\n",
       "  </tbody>\n",
       "</table>\n",
       "<p>2 rows × 65 columns</p>\n",
       "</div>"
      ],
      "text/plain": [
       "  Country Name Country Code                      Indicator Name  \\\n",
       "3      Albania          ALB  Military expenditure (current LCU)   \n",
       "4      Andorra          AND  Military expenditure (current LCU)   \n",
       "\n",
       "   Indicator Code  1960  1961  1962  1963  1964  1965  ...          2011  \\\n",
       "3  MS.MIL.XPND.CN   NaN   NaN   NaN   NaN   NaN   NaN  ...  1.987700e+10   \n",
       "4  MS.MIL.XPND.CN   NaN   NaN   NaN   NaN   NaN   NaN  ...           NaN   \n",
       "\n",
       "           2012          2013          2014          2015          2016  \\\n",
       "3  1.982000e+10  1.902200e+10  1.878800e+10  1.667100e+10  1.625000e+10   \n",
       "4           NaN           NaN           NaN           NaN           NaN   \n",
       "\n",
       "           2017          2018  2019  Unnamed: 64  \n",
       "3  1.719900e+10  1.949200e+10   NaN          NaN  \n",
       "4           NaN           NaN   NaN          NaN  \n",
       "\n",
       "[2 rows x 65 columns]"
      ]
     },
     "execution_count": 161,
     "metadata": {},
     "output_type": "execute_result"
    }
   ],
   "source": [
    "expenditures.iloc[3:5]"
   ]
  },
  {
   "cell_type": "code",
   "execution_count": 162,
   "metadata": {
    "scrolled": true,
    "slideshow": {
     "slide_type": "subslide"
    }
   },
   "outputs": [
    {
     "data": {
      "text/html": [
       "<div>\n",
       "<style scoped>\n",
       "    .dataframe tbody tr th:only-of-type {\n",
       "        vertical-align: middle;\n",
       "    }\n",
       "\n",
       "    .dataframe tbody tr th {\n",
       "        vertical-align: top;\n",
       "    }\n",
       "\n",
       "    .dataframe thead th {\n",
       "        text-align: right;\n",
       "    }\n",
       "</style>\n",
       "<table border=\"1\" class=\"dataframe\">\n",
       "  <thead>\n",
       "    <tr style=\"text-align: right;\">\n",
       "      <th></th>\n",
       "      <th>1960</th>\n",
       "      <th>1961</th>\n",
       "      <th>1962</th>\n",
       "      <th>1963</th>\n",
       "      <th>1964</th>\n",
       "      <th>1965</th>\n",
       "      <th>1966</th>\n",
       "      <th>1967</th>\n",
       "      <th>1968</th>\n",
       "      <th>1969</th>\n",
       "      <th>...</th>\n",
       "      <th>2010</th>\n",
       "      <th>2011</th>\n",
       "      <th>2012</th>\n",
       "      <th>2013</th>\n",
       "      <th>2014</th>\n",
       "      <th>2015</th>\n",
       "      <th>2016</th>\n",
       "      <th>2017</th>\n",
       "      <th>2018</th>\n",
       "      <th>2019</th>\n",
       "    </tr>\n",
       "  </thead>\n",
       "  <tbody>\n",
       "    <tr>\n",
       "      <td>3</td>\n",
       "      <td>NaN</td>\n",
       "      <td>NaN</td>\n",
       "      <td>NaN</td>\n",
       "      <td>NaN</td>\n",
       "      <td>NaN</td>\n",
       "      <td>NaN</td>\n",
       "      <td>NaN</td>\n",
       "      <td>NaN</td>\n",
       "      <td>NaN</td>\n",
       "      <td>NaN</td>\n",
       "      <td>...</td>\n",
       "      <td>1.932100e+10</td>\n",
       "      <td>1.987700e+10</td>\n",
       "      <td>1.982000e+10</td>\n",
       "      <td>1.902200e+10</td>\n",
       "      <td>1.878800e+10</td>\n",
       "      <td>1.667100e+10</td>\n",
       "      <td>1.625000e+10</td>\n",
       "      <td>1.719900e+10</td>\n",
       "      <td>1.949200e+10</td>\n",
       "      <td>NaN</td>\n",
       "    </tr>\n",
       "    <tr>\n",
       "      <td>4</td>\n",
       "      <td>NaN</td>\n",
       "      <td>NaN</td>\n",
       "      <td>NaN</td>\n",
       "      <td>NaN</td>\n",
       "      <td>NaN</td>\n",
       "      <td>NaN</td>\n",
       "      <td>NaN</td>\n",
       "      <td>NaN</td>\n",
       "      <td>NaN</td>\n",
       "      <td>NaN</td>\n",
       "      <td>...</td>\n",
       "      <td>NaN</td>\n",
       "      <td>NaN</td>\n",
       "      <td>NaN</td>\n",
       "      <td>NaN</td>\n",
       "      <td>NaN</td>\n",
       "      <td>NaN</td>\n",
       "      <td>NaN</td>\n",
       "      <td>NaN</td>\n",
       "      <td>NaN</td>\n",
       "      <td>NaN</td>\n",
       "    </tr>\n",
       "  </tbody>\n",
       "</table>\n",
       "<p>2 rows × 60 columns</p>\n",
       "</div>"
      ],
      "text/plain": [
       "   1960  1961  1962  1963  1964  1965  1966  1967  1968  1969  ...  \\\n",
       "3   NaN   NaN   NaN   NaN   NaN   NaN   NaN   NaN   NaN   NaN  ...   \n",
       "4   NaN   NaN   NaN   NaN   NaN   NaN   NaN   NaN   NaN   NaN  ...   \n",
       "\n",
       "           2010          2011          2012          2013          2014  \\\n",
       "3  1.932100e+10  1.987700e+10  1.982000e+10  1.902200e+10  1.878800e+10   \n",
       "4           NaN           NaN           NaN           NaN           NaN   \n",
       "\n",
       "           2015          2016          2017          2018  2019  \n",
       "3  1.667100e+10  1.625000e+10  1.719900e+10  1.949200e+10   NaN  \n",
       "4           NaN           NaN           NaN           NaN   NaN  \n",
       "\n",
       "[2 rows x 60 columns]"
      ]
     },
     "execution_count": 162,
     "metadata": {},
     "output_type": "execute_result"
    }
   ],
   "source": [
    "# extract sub set of [rows,columns]\n",
    "expenditures.iloc[3:5, 4:-1]"
   ]
  },
  {
   "cell_type": "markdown",
   "metadata": {
    "slideshow": {
     "slide_type": "subslide"
    }
   },
   "source": [
    "## Boolean Indexing\n",
    "\n",
    "Similar to NumPy, you can use boolean arrays for indexing. That is, you can use boolean expressions directly for indexing.\n",
    "\n",
    "In the following we assign `expenditures` to `df`as the latter is shorter."
   ]
  },
  {
   "cell_type": "code",
   "execution_count": 26,
   "metadata": {},
   "outputs": [
    {
     "data": {
      "text/html": [
       "<div>\n",
       "<style scoped>\n",
       "    .dataframe tbody tr th:only-of-type {\n",
       "        vertical-align: middle;\n",
       "    }\n",
       "\n",
       "    .dataframe tbody tr th {\n",
       "        vertical-align: top;\n",
       "    }\n",
       "\n",
       "    .dataframe thead th {\n",
       "        text-align: right;\n",
       "    }\n",
       "</style>\n",
       "<table border=\"1\" class=\"dataframe\">\n",
       "  <thead>\n",
       "    <tr style=\"text-align: right;\">\n",
       "      <th></th>\n",
       "      <th>Country Name</th>\n",
       "      <th>Country Code</th>\n",
       "      <th>Indicator Name</th>\n",
       "      <th>Indicator Code</th>\n",
       "      <th>1960</th>\n",
       "      <th>1961</th>\n",
       "      <th>1962</th>\n",
       "      <th>1963</th>\n",
       "      <th>1964</th>\n",
       "      <th>1965</th>\n",
       "      <th>...</th>\n",
       "      <th>2011</th>\n",
       "      <th>2012</th>\n",
       "      <th>2013</th>\n",
       "      <th>2014</th>\n",
       "      <th>2015</th>\n",
       "      <th>2016</th>\n",
       "      <th>2017</th>\n",
       "      <th>2018</th>\n",
       "      <th>2019</th>\n",
       "      <th>Unnamed: 64</th>\n",
       "    </tr>\n",
       "  </thead>\n",
       "  <tbody>\n",
       "    <tr>\n",
       "      <td>56</td>\n",
       "      <td>Denmark</td>\n",
       "      <td>DNK</td>\n",
       "      <td>Military expenditure (current LCU)</td>\n",
       "      <td>MS.MIL.XPND.CN</td>\n",
       "      <td>1.113000e+09</td>\n",
       "      <td>1.180000e+09</td>\n",
       "      <td>1.551000e+09</td>\n",
       "      <td>1.651000e+09</td>\n",
       "      <td>1.764000e+09</td>\n",
       "      <td>1.974000e+09</td>\n",
       "      <td>...</td>\n",
       "      <td>2.425900e+10</td>\n",
       "      <td>2.561700e+10</td>\n",
       "      <td>2.368200e+10</td>\n",
       "      <td>2.276900e+10</td>\n",
       "      <td>2.263300e+10</td>\n",
       "      <td>2.419000e+10</td>\n",
       "      <td>2.496100e+10</td>\n",
       "      <td>2.670000e+10</td>\n",
       "      <td>NaN</td>\n",
       "      <td>NaN</td>\n",
       "    </tr>\n",
       "  </tbody>\n",
       "</table>\n",
       "<p>1 rows × 65 columns</p>\n",
       "</div>"
      ],
      "text/plain": [
       "   Country Name Country Code                      Indicator Name  \\\n",
       "56      Denmark          DNK  Military expenditure (current LCU)   \n",
       "\n",
       "    Indicator Code          1960          1961          1962          1963  \\\n",
       "56  MS.MIL.XPND.CN  1.113000e+09  1.180000e+09  1.551000e+09  1.651000e+09   \n",
       "\n",
       "            1964          1965  ...          2011          2012          2013  \\\n",
       "56  1.764000e+09  1.974000e+09  ...  2.425900e+10  2.561700e+10  2.368200e+10   \n",
       "\n",
       "            2014          2015          2016          2017          2018  \\\n",
       "56  2.276900e+10  2.263300e+10  2.419000e+10  2.496100e+10  2.670000e+10   \n",
       "\n",
       "    2019  Unnamed: 64  \n",
       "56   NaN          NaN  \n",
       "\n",
       "[1 rows x 65 columns]"
      ]
     },
     "execution_count": 26,
     "metadata": {},
     "output_type": "execute_result"
    }
   ],
   "source": [
    "df = expenditures\n",
    "\n",
    "df[df['Country Name'] == 'Denmark']"
   ]
  },
  {
   "cell_type": "markdown",
   "metadata": {
    "slideshow": {
     "slide_type": "subslide"
    }
   },
   "source": [
    "Using the `isin()` method for filtering:"
   ]
  },
  {
   "cell_type": "code",
   "execution_count": 27,
   "metadata": {},
   "outputs": [
    {
     "data": {
      "text/html": [
       "<div>\n",
       "<style scoped>\n",
       "    .dataframe tbody tr th:only-of-type {\n",
       "        vertical-align: middle;\n",
       "    }\n",
       "\n",
       "    .dataframe tbody tr th {\n",
       "        vertical-align: top;\n",
       "    }\n",
       "\n",
       "    .dataframe thead th {\n",
       "        text-align: right;\n",
       "    }\n",
       "</style>\n",
       "<table border=\"1\" class=\"dataframe\">\n",
       "  <thead>\n",
       "    <tr style=\"text-align: right;\">\n",
       "      <th></th>\n",
       "      <th>Country Name</th>\n",
       "      <th>Country Code</th>\n",
       "      <th>Indicator Name</th>\n",
       "      <th>Indicator Code</th>\n",
       "      <th>1960</th>\n",
       "      <th>1961</th>\n",
       "      <th>1962</th>\n",
       "      <th>1963</th>\n",
       "      <th>1964</th>\n",
       "      <th>1965</th>\n",
       "      <th>...</th>\n",
       "      <th>2011</th>\n",
       "      <th>2012</th>\n",
       "      <th>2013</th>\n",
       "      <th>2014</th>\n",
       "      <th>2015</th>\n",
       "      <th>2016</th>\n",
       "      <th>2017</th>\n",
       "      <th>2018</th>\n",
       "      <th>2019</th>\n",
       "      <th>Unnamed: 64</th>\n",
       "    </tr>\n",
       "  </thead>\n",
       "  <tbody>\n",
       "    <tr>\n",
       "      <td>38</td>\n",
       "      <td>China</td>\n",
       "      <td>CHN</td>\n",
       "      <td>Military expenditure (current LCU)</td>\n",
       "      <td>MS.MIL.XPND.CN</td>\n",
       "      <td>NaN</td>\n",
       "      <td>NaN</td>\n",
       "      <td>NaN</td>\n",
       "      <td>NaN</td>\n",
       "      <td>NaN</td>\n",
       "      <td>NaN</td>\n",
       "      <td>...</td>\n",
       "      <td>8.914702e+11</td>\n",
       "      <td>9.935000e+11</td>\n",
       "      <td>1.114496e+12</td>\n",
       "      <td>1.233430e+12</td>\n",
       "      <td>1.333262e+12</td>\n",
       "      <td>1.436617e+12</td>\n",
       "      <td>1.541448e+12</td>\n",
       "      <td>1.654051e+12</td>\n",
       "      <td>NaN</td>\n",
       "      <td>NaN</td>\n",
       "    </tr>\n",
       "    <tr>\n",
       "      <td>56</td>\n",
       "      <td>Denmark</td>\n",
       "      <td>DNK</td>\n",
       "      <td>Military expenditure (current LCU)</td>\n",
       "      <td>MS.MIL.XPND.CN</td>\n",
       "      <td>1.113000e+09</td>\n",
       "      <td>1.180000e+09</td>\n",
       "      <td>1.551000e+09</td>\n",
       "      <td>1.651000e+09</td>\n",
       "      <td>1.764000e+09</td>\n",
       "      <td>1.974000e+09</td>\n",
       "      <td>...</td>\n",
       "      <td>2.425900e+10</td>\n",
       "      <td>2.561700e+10</td>\n",
       "      <td>2.368200e+10</td>\n",
       "      <td>2.276900e+10</td>\n",
       "      <td>2.263300e+10</td>\n",
       "      <td>2.419000e+10</td>\n",
       "      <td>2.496100e+10</td>\n",
       "      <td>2.670000e+10</td>\n",
       "      <td>NaN</td>\n",
       "      <td>NaN</td>\n",
       "    </tr>\n",
       "    <tr>\n",
       "      <td>200</td>\n",
       "      <td>Russian Federation</td>\n",
       "      <td>RUS</td>\n",
       "      <td>Military expenditure (current LCU)</td>\n",
       "      <td>MS.MIL.XPND.CN</td>\n",
       "      <td>NaN</td>\n",
       "      <td>NaN</td>\n",
       "      <td>NaN</td>\n",
       "      <td>NaN</td>\n",
       "      <td>NaN</td>\n",
       "      <td>NaN</td>\n",
       "      <td>...</td>\n",
       "      <td>2.063740e+12</td>\n",
       "      <td>2.512500e+12</td>\n",
       "      <td>2.812900e+12</td>\n",
       "      <td>3.250500e+12</td>\n",
       "      <td>4.047400e+12</td>\n",
       "      <td>4.644800e+12</td>\n",
       "      <td>3.879916e+12</td>\n",
       "      <td>3.849569e+12</td>\n",
       "      <td>NaN</td>\n",
       "      <td>NaN</td>\n",
       "    </tr>\n",
       "    <tr>\n",
       "      <td>249</td>\n",
       "      <td>United States</td>\n",
       "      <td>USA</td>\n",
       "      <td>Military expenditure (current LCU)</td>\n",
       "      <td>MS.MIL.XPND.CN</td>\n",
       "      <td>4.538000e+10</td>\n",
       "      <td>4.780800e+10</td>\n",
       "      <td>5.238100e+10</td>\n",
       "      <td>5.229500e+10</td>\n",
       "      <td>5.121300e+10</td>\n",
       "      <td>5.182700e+10</td>\n",
       "      <td>...</td>\n",
       "      <td>7.113380e+11</td>\n",
       "      <td>6.847800e+11</td>\n",
       "      <td>6.397040e+11</td>\n",
       "      <td>6.099140e+11</td>\n",
       "      <td>5.961046e+11</td>\n",
       "      <td>6.001064e+11</td>\n",
       "      <td>6.058029e+11</td>\n",
       "      <td>6.487983e+11</td>\n",
       "      <td>NaN</td>\n",
       "      <td>NaN</td>\n",
       "    </tr>\n",
       "  </tbody>\n",
       "</table>\n",
       "<p>4 rows × 65 columns</p>\n",
       "</div>"
      ],
      "text/plain": [
       "           Country Name Country Code                      Indicator Name  \\\n",
       "38                China          CHN  Military expenditure (current LCU)   \n",
       "56              Denmark          DNK  Military expenditure (current LCU)   \n",
       "200  Russian Federation          RUS  Military expenditure (current LCU)   \n",
       "249       United States          USA  Military expenditure (current LCU)   \n",
       "\n",
       "     Indicator Code          1960          1961          1962          1963  \\\n",
       "38   MS.MIL.XPND.CN           NaN           NaN           NaN           NaN   \n",
       "56   MS.MIL.XPND.CN  1.113000e+09  1.180000e+09  1.551000e+09  1.651000e+09   \n",
       "200  MS.MIL.XPND.CN           NaN           NaN           NaN           NaN   \n",
       "249  MS.MIL.XPND.CN  4.538000e+10  4.780800e+10  5.238100e+10  5.229500e+10   \n",
       "\n",
       "             1964          1965  ...          2011          2012  \\\n",
       "38            NaN           NaN  ...  8.914702e+11  9.935000e+11   \n",
       "56   1.764000e+09  1.974000e+09  ...  2.425900e+10  2.561700e+10   \n",
       "200           NaN           NaN  ...  2.063740e+12  2.512500e+12   \n",
       "249  5.121300e+10  5.182700e+10  ...  7.113380e+11  6.847800e+11   \n",
       "\n",
       "             2013          2014          2015          2016          2017  \\\n",
       "38   1.114496e+12  1.233430e+12  1.333262e+12  1.436617e+12  1.541448e+12   \n",
       "56   2.368200e+10  2.276900e+10  2.263300e+10  2.419000e+10  2.496100e+10   \n",
       "200  2.812900e+12  3.250500e+12  4.047400e+12  4.644800e+12  3.879916e+12   \n",
       "249  6.397040e+11  6.099140e+11  5.961046e+11  6.001064e+11  6.058029e+11   \n",
       "\n",
       "             2018  2019  Unnamed: 64  \n",
       "38   1.654051e+12   NaN          NaN  \n",
       "56   2.670000e+10   NaN          NaN  \n",
       "200  3.849569e+12   NaN          NaN  \n",
       "249  6.487983e+11   NaN          NaN  \n",
       "\n",
       "[4 rows x 65 columns]"
      ]
     },
     "execution_count": 27,
     "metadata": {},
     "output_type": "execute_result"
    }
   ],
   "source": [
    "df[df['Country Name'].isin(['United States', 'China', 'Denmark', 'Russian Federation'])]"
   ]
  },
  {
   "cell_type": "markdown",
   "metadata": {
    "slideshow": {
     "slide_type": "subslide"
    }
   },
   "source": [
    "Here, we create a `DataFrame` of all country codes for the four countries, which we want to study further in the following."
   ]
  },
  {
   "cell_type": "code",
   "execution_count": 28,
   "metadata": {},
   "outputs": [
    {
     "data": {
      "text/plain": [
       "38     CHN\n",
       "56     DNK\n",
       "200    RUS\n",
       "249    USA\n",
       "Name: Country Code, dtype: object"
      ]
     },
     "execution_count": 28,
     "metadata": {},
     "output_type": "execute_result"
    }
   ],
   "source": [
    "# get indices for the 4 countries in question:\n",
    "c_code_df = df[df['Country Name'].isin(['United States', 'China', \n",
    "                                        'Denmark', 'Russian Federation'])]['Country Code']\n",
    "c_code_df"
   ]
  },
  {
   "cell_type": "markdown",
   "metadata": {
    "slideshow": {
     "slide_type": "subslide"
    }
   },
   "source": [
    "We cannot plot the time series of military expenditures directly in a meaningful way as we would like to have the years on the y-axis but in the selection of our `DataFrame`, the year numbers are column names. Consequently, we have to transpose our `DataFrame`, see `T` function.\n",
    "\n",
    "Note, that the expenditures are given in `LUC` in the World Bank data set. That is, in currency of the corresponding country."
   ]
  },
  {
   "cell_type": "code",
   "execution_count": 33,
   "metadata": {},
   "outputs": [
    {
     "data": {
      "text/plain": [
       "<matplotlib.axes._subplots.AxesSubplot at 0x7f799e9cfd50>"
      ]
     },
     "execution_count": 33,
     "metadata": {},
     "output_type": "execute_result"
    },
    {
     "data": {
      "image/png": "[encoded data removed]",
      "text/plain": [
       "<Figure size 432x288 with 1 Axes>"
      ]
     },
     "metadata": {
      "needs_background": "light"
     },
     "output_type": "display_data"
    }
   ],
   "source": [
    "import matplotlib.pyplot as plt\n",
    "\n",
    "# get only the 4 countries from df and only cols: 31-end (only 1987 and up)\n",
    "#print(df.iloc[c_code_df.index,31:-1])\n",
    "ts_df = df.iloc[c_code_df.index, 31:-1].T\n",
    "ts_df = ts_df.rename(columns=dict(c_code_df))\n",
    "ts_df\n",
    "ts_df.plot()"
   ]
  },
  {
   "cell_type": "markdown",
   "metadata": {
    "slideshow": {
     "slide_type": "subslide"
    }
   },
   "source": [
    "Since this plot may be a bit misleading, we will 'normalize' all expeditures to Euro, so that they are better comparible."
   ]
  },
  {
   "cell_type": "code",
   "execution_count": 34,
   "metadata": {
    "slideshow": {
     "slide_type": "subslide"
    }
   },
   "outputs": [
    {
     "data": {
      "text/plain": [
       "'<?xml version=\"1.0\" encoding=\"UTF-8\"?>\\n<gesmes:Envelope xmlns:gesmes=\"http://www.gesmes.org/xml/2002-08-01\" xmlns=\"http://www.ecb.int/vocabulary/2002-08-01/eurofxref\">\\n\\t<gesmes:subject>Reference rates</gesmes:subject>\\n\\t<gesmes:Sender>\\n\\t\\t<gesmes:name>European Central Bank</gesmes:name>\\n\\t</gesmes:Sender>\\n\\t<Cube>\\n\\t\\t<Cube time=\\'2020-02-18\\'>\\n\\t\\t\\t<Cube currency=\\'USD\\' rate=\\'1.0816\\'/>\\n\\t\\t\\t<Cube currency=\\'JPY\\' rate=\\'118.70\\'/>\\n\\t\\t\\t<Cube currency=\\'BGN\\' rate=\\'1.9558\\'/>\\n\\t\\t\\t<Cube currency=\\'CZK\\' rate=\\'24.898\\'/>\\n\\t\\t\\t<Cube currency=\\'DKK\\' rate=\\'7.4702\\'/>\\n\\t\\t\\t<Cube currency=\\'GBP\\' rate=\\'0.82985\\'/>\\n\\t\\t\\t<Cube currency=\\'HUF\\' rate=\\'334.83\\'/>\\n\\t\\t\\t<Cube currency=\\'PLN\\' rate=\\'4.2746\\'/>\\n\\t\\t\\t<Cube currency=\\'RON\\' rate=\\'4.7823\\'/>\\n\\t\\t\\t<Cube currency=\\'SEK\\' rate=\\'10.5498\\'/>\\n\\t\\t\\t<Cube currency=\\'CHF\\' rate=\\'1.0619\\'/>\\n\\t\\t\\t<Cube currency=\\'ISK\\' rate=\\'137.70\\'/>\\n\\t\\t\\t<Cube currency=\\'NOK\\' rate=\\'10.0883\\'/>\\n\\t\\t\\t<Cube currency=\\'HRK\\' rate=\\'7.4440\\'/>\\n\\t\\t\\t<Cube currency=\\'RUB\\' rate=\\'68.9685\\'/>\\n\\t\\t\\t<Cube currency=\\'TRY\\' rate=\\'6.5643\\'/>\\n\\t\\t\\t<Cube currency=\\'AUD\\' rate=\\'1.6195\\'/>\\n\\t\\t\\t<Cube currency=\\'BRL\\' rate=\\'4.7009\\'/>\\n\\t\\t\\t<Cube currency=\\'CAD\\' rate=\\'1.4345\\'/>\\n\\t\\t\\t<Cube currency=\\'CNY\\' rate=\\'7.5732\\'/>\\n\\t\\t\\t<Cube currency=\\'HKD\\' rate=\\'8.4024\\'/>\\n\\t\\t\\t<Cube currency=\\'IDR\\' rate=\\'14780.06\\'/>\\n\\t\\t\\t<Cube currency=\\'ILS\\' rate=\\'3.7028\\'/>\\n\\t\\t\\t<Cube currency=\\'INR\\' rate=\\'77.3900\\'/>\\n\\t\\t\\t<Cube currency=\\'KRW\\' rate=\\'1288.74\\'/>\\n\\t\\t\\t<Cube currency=\\'MXN\\' rate=\\'20.1596\\'/>\\n\\t\\t\\t<Cube currency=\\'MYR\\' rate=\\'4.4919\\'/>\\n\\t\\t\\t<Cube currency=\\'NZD\\' rate=\\'1.6921\\'/>\\n\\t\\t\\t<Cube currency=\\'PHP\\' rate=\\'54.799\\'/>\\n\\t\\t\\t<Cube currency=\\'SGD\\' rate=\\'1.5058\\'/>\\n\\t\\t\\t<Cube currency=\\'THB\\' rate=\\'33.773\\'/>\\n\\t\\t\\t<Cube currency=\\'ZAR\\' rate=\\'16.2792\\'/>\\n\\t\\t</Cube>\\n\\t</Cube>\\n</gesmes:Envelope>'"
      ]
     },
     "execution_count": 34,
     "metadata": {},
     "output_type": "execute_result"
    }
   ],
   "source": [
    "import requests\n",
    "\n",
    "\n",
    "# http://www.ecb.europa.eu/stats/policy_and_exchange_rates/euro_reference_exchange_rates/html/index.en.html#dev\n",
    "response = requests.get('http://www.ecb.europa.eu/stats/eurofxref/eurofxref-daily.xml')\n",
    "response.text"
   ]
  },
  {
   "cell_type": "code",
   "execution_count": 39,
   "metadata": {},
   "outputs": [
    {
     "name": "stdout",
     "output_type": "stream",
     "text": [
      "<cube>\n",
      "\t\t<cube time=\"2020-02-18\">\n",
      "\t\t\t<cube currency=\"USD\" rate=\"1.0816\">\n",
      "\t\t\t<cube currency=\"JPY\" rate=\"118.70\">\n",
      "\t\t\t<cube currency=\"BGN\" rate=\"1.9558\">\n",
      "\t\t\t<cube currency=\"CZK\" rate=\"24.898\">\n",
      "\t\t\t<cube currency=\"DKK\" rate=\"7.4702\">\n",
      "\t\t\t<cube currency=\"GBP\" rate=\"0.82985\">\n",
      "\t\t\t<cube currency=\"HUF\" rate=\"334.83\">\n",
      "\t\t\t<cube currency=\"PLN\" rate=\"4.2746\">\n",
      "\t\t\t<cube currency=\"RON\" rate=\"4.7823\">\n",
      "\t\t\t<cube currency=\"SEK\" rate=\"10.5498\">\n",
      "\t\t\t<cube currency=\"CHF\" rate=\"1.0619\">\n",
      "\t\t\t<cube currency=\"ISK\" rate=\"137.70\">\n",
      "\t\t\t<cube currency=\"NOK\" rate=\"10.0883\">\n",
      "\t\t\t<cube currency=\"HRK\" rate=\"7.4440\">\n",
      "\t\t\t<cube currency=\"RUB\" rate=\"68.9685\">\n",
      "\t\t\t<cube currency=\"TRY\" rate=\"6.5643\">\n",
      "\t\t\t<cube currency=\"AUD\" rate=\"1.6195\">\n",
      "\t\t\t<cube currency=\"BRL\" rate=\"4.7009\">\n",
      "\t\t\t<cube currency=\"CAD\" rate=\"1.4345\">\n",
      "\t\t\t<cube currency=\"CNY\" rate=\"7.5732\">\n",
      "\t\t\t<cube currency=\"HKD\" rate=\"8.4024\">\n",
      "\t\t\t<cube currency=\"IDR\" rate=\"14780.06\">\n",
      "\t\t\t<cube currency=\"ILS\" rate=\"3.7028\">\n",
      "\t\t\t<cube currency=\"INR\" rate=\"77.3900\">\n",
      "\t\t\t<cube currency=\"KRW\" rate=\"1288.74\">\n",
      "\t\t\t<cube currency=\"MXN\" rate=\"20.1596\">\n",
      "\t\t\t<cube currency=\"MYR\" rate=\"4.4919\">\n",
      "\t\t\t<cube currency=\"NZD\" rate=\"1.6921\">\n",
      "\t\t\t<cube currency=\"PHP\" rate=\"54.799\">\n",
      "\t\t\t<cube currency=\"SGD\" rate=\"1.5058\">\n",
      "\t\t\t<cube currency=\"THB\" rate=\"33.773\">\n",
      "\t\t\t<cube currency=\"ZAR\" rate=\"16.2792\">\n",
      "\t\t</cube>\n",
      "\t</cube>\n",
      "</cube></cube></cube></cube></cube></cube></cube></cube></cube></cube></cube></cube></cube></cube></cube></cube></cube></cube></cube></cube></cube></cube></cube></cube></cube></cube></cube></cube></cube></cube></cube></cube>\n"
     ]
    }
   ],
   "source": [
    "from bs4 import BeautifulSoup\n",
    "# Will be covered in week 7 on webscraping\n",
    "\n",
    "xml = BeautifulSoup(response.text, 'html5lib')\n",
    "rate_list = xml.cube.cube.findAll(\"cube\") # [0]['rate']\n",
    "print(xml.cube)"
   ]
  },
  {
   "cell_type": "code",
   "execution_count": 40,
   "metadata": {
    "slideshow": {
     "slide_type": "subslide"
    }
   },
   "outputs": [
    {
     "name": "stdout",
     "output_type": "stream",
     "text": [
      "1.0816\n",
      "7.4702\n",
      "68.9685\n",
      "7.5732\n"
     ]
    },
    {
     "data": {
      "text/plain": [
       "{'USD': 1.0816, 'DKK': 7.4702, 'RUB': 68.9685, 'CNY': 7.5732}"
      ]
     },
     "execution_count": 40,
     "metadata": {},
     "output_type": "execute_result"
    }
   ],
   "source": [
    "\n",
    "\n",
    "currency = ['USD', 'DKK', 'RUB', 'CNY']\n",
    "rate_dict = dict.fromkeys(currency) # create a new dict with given keys\n",
    "#print(rate_dict)\n",
    "for element in rate_list:\n",
    "    if element['currency'] in currency:\n",
    "        rate_dict[element['currency']] = float(element['rate'])\n",
    "        print(element['rate'])\n",
    "rate_dict"
   ]
  },
  {
   "cell_type": "code",
   "execution_count": 41,
   "metadata": {
    "slideshow": {
     "slide_type": "subslide"
    }
   },
   "outputs": [
    {
     "data": {
      "text/plain": [
       "<matplotlib.axes._subplots.AxesSubplot at 0x7f799ae49ad0>"
      ]
     },
     "execution_count": 41,
     "metadata": {},
     "output_type": "execute_result"
    },
    {
     "data": {
      "image/png": "[encoded data removed]",
      "text/plain": [
       "<Figure size 432x288 with 1 Axes>"
      ]
     },
     "metadata": {
      "needs_background": "light"
     },
     "output_type": "display_data"
    }
   ],
   "source": [
    "# get all weapons expenditure in euros\n",
    "ts_df['DNK'] = ts_df['DNK'] / rate_dict['DKK']\n",
    "ts_df['USA'] = ts_df['USA'] / rate_dict['USD']\n",
    "ts_df['CHN'] = ts_df['CHN'] / rate_dict['CNY']\n",
    "ts_df['RUS'] = ts_df['RUS'] / rate_dict['RUB']\n",
    "ts_df.plot()"
   ]
  },
  {
   "cell_type": "markdown",
   "metadata": {
    "slideshow": {
     "slide_type": "subslide"
    }
   },
   "source": [
    "**OBS!!!** Be careful, the graph above is still not really well suited for comparison as currency exchange rates are not fix. However, the code above normalizes just relying on the most current exchange rate from the European Central Bank. See the exercise block in the bottom for how to fix that isuue!"
   ]
  },
  {
   "cell_type": "markdown",
   "metadata": {},
   "source": [
    "## Sorting dataframes\n",
    "\n",
    "In case you have to sort the data in your `DataFrames` see the methods `sort_index` and `sort_values`.\n",
    "\n",
    "\n",
    "```python\n",
    "df.sort_index(axis=1, ascending=True)\n",
    "df.sort_values(by='Country Code')\n",
    "```"
   ]
  },
  {
   "cell_type": "code",
   "execution_count": null,
   "metadata": {},
   "outputs": [],
   "source": [
    "df.sort_index?"
   ]
  },
  {
   "cell_type": "code",
   "execution_count": null,
   "metadata": {},
   "outputs": [],
   "source": [
    "df.sort_values?"
   ]
  },
  {
   "cell_type": "markdown",
   "metadata": {},
   "source": [
    "## Class Exercise\n",
    "Go here and get csv data: [worldbank military expanditure](https://data.worldbank.org/indicator/MS.MIL.XPND.CD?locations=DK-CN-US-RU)\n",
    "1. For 2018 find the 10 countries with the highest military expenditure in USD\n",
    "2. For 2018 find the 10 countries with the highest military expenditure per capita\n",
    "https://www.worldometers.info/world-population/population-by-country/\n",
    "3. For 2018 find the 3 countries with the highest per capita military expenditure in the middle east\n",
    "   1. use [list of middle eastern countries](https://en.wikipedia.org/wiki/Middle_East#Territories_and_regions_usually_considered_within_the_Middle_East) or [json countries with region](https://github.com/vire/country.json/blob/master/src/country-region-in-world.json)\n",
    "   2. together with [all iso alpha 3 country codes](https://en.wikipedia.org/wiki/ISO_3166-1_alpha-3#Current_codes) or [as json](https://raw.githubusercontent.com/lukes/ISO-3166-Countries-with-Regional-Codes/master/slim-3/slim-3.json) or [as csv](https://raw.githubusercontent.com/lukes/ISO-3166-Countries-with-Regional-Codes/master/slim-3/slim-3.csv)\n",
    "   3. and cross check the to data sets to get the alpha3 codes for the middle eastern countries"
   ]
  },
  {
   "cell_type": "markdown",
   "metadata": {
    "slideshow": {
     "slide_type": "subslide"
    }
   },
   "source": [
    "\n",
    "## Self study exercise\n",
    "\n",
    "Complete the comparison of military expenditures by converting all currencies to USD. Since we have yearly expenditures, use for example the yearly median for normalization. Likely, you will find an API to collect historical echange rates at Yahoo Finance.\n",
    "\n",
    "[https://finance.yahoo.com/quote/USDRUB%3DX](https://finance.yahoo.com/quote/USDRUB%3DX)\n",
    "\n",
    "\n",
    "\n"
   ]
  }
 ],
 "metadata": {
  "celltoolbar": "Slideshow",
  "kernelspec": {
   "display_name": "Python 3",
   "language": "python",
   "name": "python3"
  },
  "language_info": {
   "codemirror_mode": {
    "name": "ipython",
    "version": 3
   },
   "file_extension": ".py",
   "mimetype": "text/x-python",
   "name": "python",
   "nbconvert_exporter": "python",
   "pygments_lexer": "ipython3",
   "version": "3.7.4"
  },
  "varInspector": {
   "cols": {
    "lenName": 16,
    "lenType": 16,
    "lenVar": 40
   },
   "kernels_config": {
    "python": {
     "delete_cmd_postfix": "",
     "delete_cmd_prefix": "del ",
     "library": "var_list.py",
     "varRefreshCmd": "print(var_dic_list())"
    },
    "r": {
     "delete_cmd_postfix": ") ",
     "delete_cmd_prefix": "rm(",
     "library": "var_list.r",
     "varRefreshCmd": "cat(var_dic_list()) "
    }
   },
   "types_to_exclude": [
    "module",
    "function",
    "builtin_function_or_method",
    "instance",
    "_Feature"
   ],
   "window_display": false
  }
 },
 "nbformat": 4,
 "nbformat_minor": 2
}
