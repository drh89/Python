{
 "cells": [
  {
   "cell_type": "markdown",
   "metadata": {
    "slideshow": {
     "slide_type": "slide"
    }
   },
   "source": [
    "# The course so far...\n",
    "\n",
    "* Whirlwind through Python\n",
    "* Filer, CLI, OO\n",
    "* Plotting\n",
    "* Numpy\n",
    "* Pandas"
   ]
  },
  {
   "cell_type": "markdown",
   "metadata": {
    "slideshow": {
     "slide_type": "subslide"
    }
   },
   "source": [
    "## What is left ...\n",
    "\n",
    "* Multiprocessing, generators and requests\n",
    "* Graphs and PageRank\n",
    "* Webscraping\n",
    "* Feature engineering\n",
    "* Neural networks\n",
    "* Image processing\n",
    "* Movement detection"
   ]
  },
  {
   "cell_type": "markdown",
   "metadata": {
    "slideshow": {
     "slide_type": "fragment"
    }
   },
   "source": [
    "* Project!"
   ]
  },
  {
   "cell_type": "markdown",
   "metadata": {
    "slideshow": {
     "slide_type": "subslide"
    }
   },
   "source": [
    "# Learning objectives"
   ]
  },
  {
   "cell_type": "markdown",
   "metadata": {
    "slideshow": {
     "slide_type": "subslide"
    }
   },
   "source": [
    "## Skills \n",
    "\n",
    "* Write Python scripts and programs using common language constructs in the read-eval-print-loop (REPL), “Jupyter Notebooks”, as well as separate self-contained programs. \n",
    "\n",
    "* Download files from the web programmatically, as well as reading most common file formats programmatically. \n",
    "\n",
    "* Create various types of plots programmatically to share insight into data. \n",
    "\n",
    "* Apply Python’s scientific libraries and some of the most prominent algorithms in data science for problem solving and complexity reduction. \n",
    "\n",
    "* Programmatically, process images and streams of images. \n",
    "\n",
    "* Automate repetitive and boring tasks for example for data collection or UI testing. \n",
    "\n",
    " "
   ]
  },
  {
   "cell_type": "markdown",
   "metadata": {
    "slideshow": {
     "slide_type": "slide"
    }
   },
   "source": [
    "# Agenda\n",
    "\n",
    "- Assignment feedback\n",
    "- Handling data\n",
    "- Generators\n",
    "- Requests\n",
    "- Multiprocessing"
   ]
  },
  {
   "cell_type": "markdown",
   "metadata": {
    "slideshow": {
     "slide_type": "subslide"
    }
   },
   "source": [
    "## Assignment feedback"
   ]
  },
  {
   "cell_type": "markdown",
   "metadata": {
    "slideshow": {
     "slide_type": "subslide"
    }
   },
   "source": [
    "## Handling data\n",
    "\n",
    "* stdin / stdout\n",
    "* Reading/writing files\n",
    "* Parsing data\n",
    "  * Web-scraping\n",
    "* Using web APIs"
   ]
  },
  {
   "cell_type": "markdown",
   "metadata": {
    "slideshow": {
     "slide_type": "subslide"
    }
   },
   "source": [
    "## Stdin/out"
   ]
  },
  {
   "cell_type": "code",
   "execution_count": 2,
   "metadata": {
    "slideshow": {
     "slide_type": "fragment"
    }
   },
   "outputs": [
    {
     "name": "stdout",
     "output_type": "stream",
     "text": [
      "What time is it?10:20\n"
     ]
    },
    {
     "data": {
      "text/plain": [
       "'10:20'"
      ]
     },
     "execution_count": 2,
     "metadata": {},
     "output_type": "execute_result"
    }
   ],
   "source": [
    "input('What time is it?')"
   ]
  },
  {
   "cell_type": "markdown",
   "metadata": {
    "slideshow": {
     "slide_type": "subslide"
    }
   },
   "source": [
    "## Stdin/out in python files\n",
    "\n",
    "```python\n",
    "import sys\n",
    "sys.argv\n",
    "```"
   ]
  },
  {
   "cell_type": "markdown",
   "metadata": {
    "slideshow": {
     "slide_type": "subslide"
    }
   },
   "source": [
    "## Modules are Files\n",
    "\n",
    "Modules are actually just files with a `.py` ending. So if you write \n",
    "```python\n",
    "import string\n",
    "```\n",
    "You actually just fetch the `string.py` file.\n",
    "\n",
    "Let's have a look! "
   ]
  },
  {
   "cell_type": "code",
   "execution_count": 5,
   "metadata": {
    "slideshow": {
     "slide_type": "subslide"
    }
   },
   "outputs": [
    {
     "name": "stdout",
     "output_type": "stream",
     "text": [
      "/home/tha/.anaconda3/lib/python3.7/string.py\n",
      "string\n"
     ]
    }
   ],
   "source": [
    "import string\n",
    "\n",
    "\n",
    "print(string.__file__)\n",
    "print(string.__name__)"
   ]
  },
  {
   "cell_type": "markdown",
   "metadata": {
    "slideshow": {
     "slide_type": "subslide"
    }
   },
   "source": [
    "## Let's try that ourselves!\n",
    "\n",
    "* Create a new file `global_warming.py`\n",
    "* In the file, put these four lines of code:\n",
    "```python\n",
    "def global_warming_status():\n",
    "      return 'The globe is heating up!'\n",
    "status = global_warming_status()\n",
    "print(status)\n",
    "```\n",
    "\n",
    "* What is the code doing?\n",
    "\n"
   ]
  },
  {
   "cell_type": "markdown",
   "metadata": {
    "slideshow": {
     "slide_type": "fragment"
    }
   },
   "source": [
    "* Save the file and run it via the terminal: `python global_warming.py`"
   ]
  },
  {
   "cell_type": "markdown",
   "metadata": {
    "slideshow": {
     "slide_type": "subslide"
    }
   },
   "source": [
    "## If modules are text files, we can import them!\n",
    "\n",
    "* Create a new file called `un.py` with the following lines of code:\n",
    "\n",
    "```python\n",
    "import global_warming\n",
    "\n",
    "status = global_warming.global_warming_status()\n",
    "print('UN expert panel says: ' + status)\n",
    "```\n",
    "* What do you think will happen when you run it?"
   ]
  },
  {
   "cell_type": "markdown",
   "metadata": {
    "slideshow": {
     "slide_type": "subslide"
    }
   },
   "source": [
    "## Main Python files versus imported Python files\n",
    "\n",
    "* Python files that you run with `python file.py` are considered **main** files\n",
    "  - These are the files we want to **start up** from.\n",
    "* All other files are modules, and should not get called directly (only through other files)"
   ]
  },
  {
   "cell_type": "markdown",
   "metadata": {},
   "source": [
    "## main method\n",
    "- In python files all of the code that is at indentation level 0 gets executed. \n",
    "- Functions and classes that are defined are, well, defined, but none of their code gets run. \n",
    "- Unlike other languages, there's no main() function that gets run automatically \n",
    "- ***the main() function is implicitly all the code at the top level***.\n",
    "\n",
    "- In this case, the top-level code is an if block.  \n",
    "- __name__ is a built-in variable which evaluates to the name of the current module. \n",
    "- However, if a module is being run directly (as in two.py above), then __name__ instead is set to the string \"__main__\". \n",
    "- Thus, you can test whether your script is being run directly or being imported by something else by testing\n",
    "    - `if __name__ == \"__main__\":`\n",
    "    \n",
    "- If your script is being imported into another module, its various function and class definitions will be imported and its top-level code will be executed, but the code in the then-body of the if clause above won't get run as the condition is not met. \n",
    "- As a basic example, consider the following two scripts:"
   ]
  },
  {
   "cell_type": "markdown",
   "metadata": {},
   "source": [
    "#### First file: one.py\n",
    "```python\n",
    "# file one.py\n",
    "def func():\n",
    "    print(\"func() in one.py\")\n",
    "\n",
    "print(\"top-level in one.py\")\n",
    "\n",
    "if __name__ == \"__main__\":\n",
    "    print(\"one.py is being run directly\")\n",
    "else:\n",
    "    print(\"one.py is being imported into another module\")\n",
    "```\n",
    "#### Second file: two.py\n",
    "is importing one.py\n",
    "\n",
    "```python\n",
    "# file two.py\n",
    "import one\n",
    "\n",
    "print(\"top-level in two.py\")\n",
    "one.func()\n",
    "\n",
    "if __name__ == \"__main__\":\n",
    "    print(\"two.py is being run directly\")\n",
    "else:\n",
    "    print(\"two.py is being imported into another module\")\n",
    "```\n",
    "\n",
    "Running file: two.py:"
   ]
  },
  {
   "cell_type": "code",
   "execution_count": 7,
   "metadata": {},
   "outputs": [
    {
     "name": "stdout",
     "output_type": "stream",
     "text": [
      "top-level in one.py\r\n",
      "one.py is being imported into another module\r\n",
      "top-level in two.py\r\n",
      "func() in one.py\r\n",
      "two.py is being run directly\r\n"
     ]
    }
   ],
   "source": [
    "!python my_modules/two.py"
   ]
  },
  {
   "cell_type": "markdown",
   "metadata": {
    "slideshow": {
     "slide_type": "fragment"
    }
   },
   "source": [
    "* In your `un.py` file, add the line `print(__name__)`\n",
    "  - Run the file again. What happens?"
   ]
  },
  {
   "cell_type": "markdown",
   "metadata": {
    "slideshow": {
     "slide_type": "fragment"
    }
   },
   "source": [
    "* In your `global_warming.py` file, add the line `print(__name__)`\n",
    "  - First run the `global_warming.py` file. What happens?\n",
    "  - Then run the `un.py` file. What happens?"
   ]
  },
  {
   "cell_type": "markdown",
   "metadata": {
    "slideshow": {
     "slide_type": "subslide"
    }
   },
   "source": [
    "Ok, so `__name__` is either the string `'__main__'` if it is the *first* file to be run, or the actual name of the file (without extension) otherwise.\n",
    "\n",
    "\n",
    "Can we exploit that to avoid running code in `global_warming.py`, *unless* we use it as the main file?"
   ]
  },
  {
   "cell_type": "code",
   "execution_count": 4,
   "metadata": {
    "slideshow": {
     "slide_type": "subslide"
    }
   },
   "outputs": [
    {
     "name": "stdout",
     "output_type": "stream",
     "text": [
      "The globe is heating up!\n",
      "__main__\n"
     ]
    }
   ],
   "source": [
    "def global_warming_status():\n",
    "    return 'The globe is heating up!'\n",
    "    \n",
    "if __name__ == '__main__':\n",
    "    status = global_warming_status()\n",
    "    print(status)\n",
    "    print(__name__)"
   ]
  },
  {
   "cell_type": "markdown",
   "metadata": {},
   "source": [
    "## Exercise python modules:\n",
    "\n",
    "1. make 2 files, a main file and a module file, 'called test_my_module.py' and 'get_names.py' respectively.\n",
    "2. in the module file write a function with a generator, that can serve one name at a time (like you created in the last lesson)\n",
    "3. execute the function in the module file and test run it from cli with: `python get_names.py`\n",
    "4. in the main file implement a function that can take a number and return that many names (using the module you made).\n",
    "5. make sure that test_my_module.py can be run directly and that when running test_my_module, no top level code from get_names will run."
   ]
  }
 ],
 "metadata": {
  "celltoolbar": "Slideshow",
  "kernelspec": {
   "display_name": "Python 3",
   "language": "python",
   "name": "python3"
  },
  "language_info": {
   "codemirror_mode": {
    "name": "ipython",
    "version": 3
   },
   "file_extension": ".py",
   "mimetype": "text/x-python",
   "name": "python",
   "nbconvert_exporter": "python",
   "pygments_lexer": "ipython3",
   "version": "3.7.4"
  }
 },
 "nbformat": 4,
 "nbformat_minor": 2
}
