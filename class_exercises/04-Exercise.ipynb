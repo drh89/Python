{
 "cells": [
  {
   "cell_type": "markdown",
   "metadata": {},
   "source": []
  },
  {
   "cell_type": "markdown",
   "metadata": {},
   "source": [
    "# Week 4 Exercise with Numpy\n",
    "\n",
    "Use only numpy in these exercises\n",
    "#### Exercise 1\n",
    "1. Open the file './befkbhalderstatkode.csv'\n",
    "2. Turn the csv file into a numpy ndarray with `np.genfromtxt(filename, delimiter=',', dtype=np.uint, skip_header=1)`\n",
    "3. Using this data:\n",
    "```python\n",
    "neighb = {1: 'Indre By', 2: 'Østerbro', 3: 'Nørrebro', 4: 'Vesterbro/Kgs. Enghave', \n",
    "          5: 'Valby', 6: 'Vanløse', 7: 'Brønshøj-Husum', 8: 'Bispebjerg', 9: 'Amager Øst', \n",
    "          10: 'Amager Vest', 99: 'Udenfor'}\n",
    "```\n",
    "Find out how many people lived in each of the 11 areas in 2015\n",
    "4. Make a bar plot to show the size of each city area from the smallest to the largest\n",
    "5. Create a boolean mask to find out how many people above 65 years lived in Copenhagen in 2015\n",
    "6. How many of those were from the other nordic countries (not dk)\n",
    "7. Make a line plot showing the changes of number of people in vesterbro and østerbro from 1992 to 2015\n",
    "\n"
   ]
  },
  {
   "cell_type": "code",
   "execution_count": 31,
   "metadata": {},
   "outputs": [
    {
     "name": "stdout",
     "output_type": "stream",
     "text": [
      "year citypart age countrycode amount\n",
      "[[2015    1    0 5100  614]\n",
      " [2015    1    0 5104    2]\n",
      " [2015    1    0 5106    1]\n",
      " ...\n",
      " [1992   99   89 5100    1]\n",
      " [1992   99   90 5180    1]\n",
      " [1992   99   93 5100    1]]\n",
      "{1: 'Indre By', 2: 'Østerbro', 3: 'Nørrebro', 4: 'Vesterbro/Kgs. Enghave', 5: 'Valby', 6: 'Vanløse', 7: 'Brønshøj-Husum', 8: 'Bispebjerg', 9: 'Amager Øst', 10: 'Amager Vest', 99: 'Udenfor'}\n"
     ]
    }
   ],
   "source": [
    "#exercise 1_init\n",
    "\n",
    "import numpy as np\n",
    "\n",
    "# 1. + 2.\n",
    "stats =np.genfromtxt('./befkbhalderstatkode.csv', delimiter=',', dtype=np.uint, skip_header=1)\n",
    "\n",
    "# 3.\n",
    "neighb = {1: 'Indre By', 2: 'Østerbro', 3: 'Nørrebro', 4: 'Vesterbro/Kgs. Enghave', \n",
    "       5: 'Valby', 6: 'Vanløse', 7: 'Brønshøj-Husum', 8: 'Bispebjerg', 9: 'Amager Øst', \n",
    "       10: 'Amager Vest', 99: 'Udenfor'}\n",
    "print(\"year\", \"citypart\", \"age\", \"countrycode\", \"amount\")\n",
    "print(stats)\n",
    "print(neighb)"
   ]
  },
  {
   "cell_type": "code",
   "execution_count": 84,
   "metadata": {},
   "outputs": [
    {
     "name": "stdout",
     "output_type": "stream",
     "text": [
      "{'Indre By': 51937, 'Østerbro': 75113, 'Nørrebro': 78802, 'Vesterbro/Kgs. Enghave': 61623, 'Valby': 51727, 'Vanløse': 39537, 'Brønshøj-Husum': 43908, 'Bispebjerg': 53604, 'Amager Øst': 55205, 'Amager Vest': 64967, 'Udenfor': 3872}\n"
     ]
    }
   ],
   "source": [
    "# 3. Find out how many people lived in each of the 11 areas in 2015\n",
    "\n",
    "def number_of_people_per_neighbourhood(n, mask):\n",
    "    all_people_in_given_n = stats[mask & (stats[:,1] == n)]\n",
    "    sum_of_people = all_people_in_given_n[:,4].sum() # index 4 is no of 'PERSONER'\n",
    "    return sum_of_people\n",
    "\n",
    "mask = (stats[:,0] == 2015)\n",
    "#print(stats[mask])\n",
    "\n",
    "people_dict = { v:number_of_people_per_neighbourhood(k, mask) for (k,v) in neighb.items()}\n",
    "print(people_dict)"
   ]
  },
  {
   "cell_type": "code",
   "execution_count": 86,
   "metadata": {
    "scrolled": false
   },
   "outputs": [
    {
     "data": {
      "image/png": "[encoded data removed]",
      "text/plain": [
       "<Figure size 432x288 with 1 Axes>"
      ]
     },
     "metadata": {
      "needs_background": "light"
     },
     "output_type": "display_data"
    }
   ],
   "source": [
    "# 4. Make a bar plot to show the size of each city area from the smallest to the largest\n",
    "\n",
    "import matplotlib.pyplot as plt\n",
    "fig = plt.figure()\n",
    "ax = fig.add_axes([0,0,1,1])\n",
    "\n",
    "sorted_people_list = sorted(people_dict.items(), key=lambda item: item[1])\n",
    "\n",
    "sorted_areas= [area[0] for area in sorted_people_list]\n",
    "sorted_numbers= [area[1] for area in sorted_people_list]\n",
    "\n",
    "plt.bar(sorted_areas, sorted_numbers)\n",
    "plt.show()"
   ]
  },
  {
   "cell_type": "code",
   "execution_count": 103,
   "metadata": {},
   "outputs": [
    {
     "name": "stdout",
     "output_type": "stream",
     "text": [
      "Sum of people above 65:  55750\n"
     ]
    }
   ],
   "source": [
    "# 5. Create a boolean mask to find out how many people above 65 years lived in Copenhagen in 2015\n",
    "def number_of_people(mask):\n",
    "    all_people_in_given_mask = stats[mask]\n",
    "    sum_of_people = all_people_in_given_mask[:,4].sum() # index 4 is no of 'PERSONER'\n",
    "    return sum_of_people\n",
    "\n",
    "mask = ((stats[:,2] > 65) & (stats[:,0] == 2015))\n",
    "\n",
    "peoples_above_65 = number_of_people(mask)\n",
    "print(\"Sum of people above 65: \", peoples_above_65)"
   ]
  },
  {
   "cell_type": "code",
   "execution_count": 109,
   "metadata": {},
   "outputs": [
    {
     "name": "stdout",
     "output_type": "stream",
     "text": [
      "sweden 267\n",
      "finland 72\n",
      "norway 236\n",
      "iceland 2\n",
      "Sum of people above 65 from other nordic countries:  577\n"
     ]
    }
   ],
   "source": [
    "# 6. How many of those were from the other nordic countries (not dk)\n",
    "#Finland(5104), Iceland(5105), Norway(5110), Sweden(5120)\n",
    "\n",
    "def mask_factory(state):\n",
    "    return (\n",
    "    (stats[:,2] > 65) & \n",
    "    (stats[:,0] == 2015) & \n",
    "    (stats[:,3] == state)\n",
    ")\n",
    "\n",
    "sweden = number_of_people(mask_factory(5120))\n",
    "print(\"sweden\", sweden)\n",
    "finland = number_of_people(mask_factory(5104))\n",
    "print(\"finland\", finland)\n",
    "norway = number_of_people(mask_factory(5110))\n",
    "print(\"norway\", norway)\n",
    "iceland = number_of_people(mask_factory(5105))\n",
    "print(\"iceland\", iceland)\n",
    "\n",
    "print(\"Sum of people above 65 from other nordic countries: \", sweden+ finland+norway+iceland)"
   ]
  },
  {
   "cell_type": "code",
   "execution_count": 128,
   "metadata": {},
   "outputs": [
    {
     "data": {
      "image/png": "[encoded data removed]",
      "text/plain": [
       "<Figure size 432x288 with 1 Axes>"
      ]
     },
     "metadata": {
      "needs_background": "light"
     },
     "output_type": "display_data"
    }
   ],
   "source": [
    "# 7. Make a line plot showing the changes of number of people in vesterbro and østerbro from 1992 to 2015\n",
    "import matplotlib.patches as mpatches\n",
    "import matplotlib.pyplot as plt\n",
    "\n",
    "osterbro = [] # 'Østerbro': 2\n",
    "vesterbro = [] # 'Vesterbro/Kgs. Enghave': 4\n",
    "\n",
    "for year in range(1992, 2016):\n",
    "    mask = (stats[:,0] == year)\n",
    "    osterbro.append(number_of_people_per_neighbourhood(2, mask))\n",
    "    vesterbro.append(number_of_people_per_neighbourhood(4, mask))\n",
    "               \n",
    "#print(\"Østerbro\", osterbro)\n",
    "#print(\"Vesterbro\",vesterbro)\n",
    "\n",
    "plt.figure()\n",
    "plt.plot(range(1992, 2016),osterbro,  linewidth=3, color='red')\n",
    "plt.plot(range(1992, 2016),vesterbro,  linewidth=3, color='green')\n",
    "# Set chart title and label axes. \n",
    "plt.title(\"Østerbro/Vesterbro\", fontsize=24)\n",
    "plt.xlabel(\"Year\", fontsize=14)\n",
    "plt.ylabel(\"Number of people\", fontsize=14)\n",
    "# Set size of tick labels.\n",
    "plt.tick_params(axis='both', labelsize=14)\n",
    "red_patch = mpatches.Patch(color='red', label='Østerbro')\n",
    "green_patch = mpatches.Patch(color='green', label='Vesterbro')\n",
    "plt.legend(handles=[red_patch, green_patch])\n",
    "plt.show()"
   ]
  },
  {
   "cell_type": "markdown",
   "metadata": {},
   "source": [
    "#### Exercise 2  A bit harder (Extra only if you have the time)\n",
    "\n",
    "1. From \"Danmarks Statistik\" download demographic data here:\n",
    "'https://api.statbank.dk/v1/data/FOLK1A/CSV?valuePresentation=Code&delimiter=Semicolon&OMR%C3%85DE=000%2C084%2C147%2C400%2C085%2C083%2C082%2C081%2C851%2C461%2C561%2C751&K%C3%98N=1%2C2&ALDER=0%2C1%2C2%2C3%2C4%2C5%2C6%2C7%2C8%2C9%2C10%2C11%2C12%2C13%2C14%2C15%2C16%2C17%2C18%2C19%2C20%2C21%2C22%2C23%2C24%2C25%2C26%2C27%2C28%2C29%2C30%2C31%2C32%2C33%2C34%2C35%2C36%2C37%2C3%2C39%2C40%2C41%2C42%2C43%2C44%2C45%2C46%2C47%2C48%2C49%2C50%2C51%2C52%2C53%2C54%2C55%2C56%2C57%2C58%2C59%2C60%2C61%2C62%2C63%2C64%2C65%2C66%2C67%2C68%2C69%2C70%2C71%2C72%2C73%2C74%2C75%2C76%2C77%2C78%2C79%2C80%2C81%2C82%2C83%2C84%2C85%2C86%2C87%2C88%2C89%2C90%2C91%2C92%2C93%2C94%2C95%2C96%2C97%2C98%2C99%2C100&Tid=2008K1%2C2009K1%2C2010K1%2C2011K1%2C2012K1%2C2013K1%2C2014K1%2C2015K1%2C2016K1%2C2017K1%2C2018K1%2C2019K1%2C2020K1'\n",
    "2. clean up the data so it only contains numbers. (If you find this hard to do then Pandas can help (we will cover it next week)\n",
    "```python\n",
    "import pandas as pd \n",
    "url = 'url from above here'\n",
    "df = pd.read_csv(url,sep=';')\n",
    "df['TID'] = df['TID'].map(lambda x:x[:-2]) #cut the last 2 characters\n",
    "df.to_csv('demografic_cleaned.csv',header=False, index=False)\n",
    "```\n",
    "Now you have csv data with columns: OMRÅDE;KØN;ALDER;TID;INDHOLD\n",
    "3. Now load your demographic data with numpy. (Hint: use np.loadtxt() with dtype and delimiter).\n",
    "4. Use file: BY_KODER_demographics.csv to get cities from the city codes\n",
    "5. Now find out which city in 2020 has the highest percentage of men (gender code 1),(Hint: create a function to return summed up data by city code ala: def summed_by_city(city_code): returning pct_male \n",
    "6. Create a line chart with 5 lines showing population changes in the 5 largest cities from 2008 to 2020\n"
   ]
  }
 ],
 "metadata": {
  "kernelspec": {
   "display_name": "Python 3",
   "language": "python",
   "name": "python3"
  },
  "language_info": {
   "codemirror_mode": {
    "name": "ipython",
    "version": 3
   },
   "file_extension": ".py",
   "mimetype": "text/x-python",
   "name": "python",
   "nbconvert_exporter": "python",
   "pygments_lexer": "ipython3",
   "version": "3.7.4"
  },
  "varInspector": {
   "cols": {
    "lenName": 16,
    "lenType": 16,
    "lenVar": 40
   },
   "kernels_config": {
    "python": {
     "delete_cmd_postfix": "",
     "delete_cmd_prefix": "del ",
     "library": "var_list.py",
     "varRefreshCmd": "print(var_dic_list())"
    },
    "r": {
     "delete_cmd_postfix": ") ",
     "delete_cmd_prefix": "rm(",
     "library": "var_list.r",
     "varRefreshCmd": "cat(var_dic_list()) "
    }
   },
   "types_to_exclude": [
    "module",
    "function",
    "builtin_function_or_method",
    "instance",
    "_Feature"
   ],
   "window_display": false
  }
 },
 "nbformat": 4,
 "nbformat_minor": 2
}
