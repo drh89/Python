{
 "cells": [
  {
   "cell_type": "markdown",
   "metadata": {},
   "source": [
    "Opgave:\n",
    "    https://github.com/datsoftlyngby/dat4sem2020spring-python/blob/master/Facebook_exercise.ipynb\n",
    "    \n",
    "Facebook Assignment\n",
    "\n",
    "This assignment requires you to work with Facebook network data, \n",
    "data preprocessing and networkx. Note that this is real data \n",
    "from real people!"
   ]
  },
  {
   "cell_type": "markdown",
   "metadata": {},
   "source": [
    "Part 1: Preparing data\n",
    "\n",
    "The dataset you will be working with is available here: \n",
    "    https://snap.stanford.edu/data/egonets-Facebook.html\n",
    "\n",
    "You're first job is to\n",
    "\n",
    "    Download the data\n",
    "    Unpack the data\n",
    "    Import the data as an undirected graph in networkx\n",
    "\n",
    "This should all be done from your notebook in Python. \n",
    "This is an important step for you to automate data preprocessing.\n",
    "\n",
    "Note: this could take a while, so if you feel adventurous you \n",
    "    can use the multiprocessing library to speed things up.\n",
    "\n",
    "Hand-in:\n",
    "\n",
    "    The code for downloading, unpacking and loading the dataset\n",
    "\n"
   ]
  },
  {
   "cell_type": "code",
   "execution_count": 59,
   "metadata": {
    "scrolled": true
   },
   "outputs": [
    {
     "name": "stdout",
     "output_type": "stream",
     "text": [
      "88234\n"
     ]
    }
   ],
   "source": [
    "import tarfile\n",
    "from tqdm import tqdm\n",
    "import wget\n",
    "import gzip\n",
    "import shutil\n",
    "import os\n",
    "import numpy as np \n",
    "import networkx as nx\n",
    "import matplotlib.pyplot as plt\n",
    "from networkx.drawing.nx_agraph import graphviz_layout, write_dot\n",
    "import pygraphviz\n",
    "\n",
    "def download_file(url, file_name=\"data_file\"):\n",
    "    \"\"\"download and save file\"\"\"\n",
    "    print('Beginning file download with wget module')\n",
    "    wget.download(url, './' + file_name)\n",
    "\n",
    "    \n",
    "def unpack_tar(file_name):\n",
    "    \"\"\"unpack tar.gz file\"\"\"\n",
    "    if (file_name.endswith(\"tar.gz\")):\n",
    "        tar = tarfile.open(file_name)\n",
    "        tar.extractall()\n",
    "        tar.close()\n",
    "        print(\"Extracted in Current Directory\")\n",
    "    else:\n",
    "        print (\"Not a tar.gz file: '%s '\" % file_name)\n",
    "\n",
    "        \n",
    "def unpack_gz(file_name, file_type='.txt'):\n",
    "    \"\"\"unpack gz file\"\"\"\n",
    "    with gzip.open(file_name, 'rb') as f_in:\n",
    "        raw_fine_name = os.path.splitext(file_name)[0]\n",
    "        print(raw_fine_name+file_type)\n",
    "        with open(raw_fine_name + file_type, 'wb') as f_out:\n",
    "            shutil.copyfileobj(f_in, f_out)\n",
    "        \n",
    "        \n",
    "def get_files_from_folder(folder):\n",
    "    \"\"\"return list of files in folder. Not used in this exercise\"\"\"\n",
    "    from os import listdir\n",
    "    from os.path import isfile, join\n",
    "    return [f for f in listdir(folder) if isfile(join(folder, f))]\n",
    "        \n",
    "    \n",
    "def load_data(file):\n",
    "    \"\"\"load data into array of tubles\"\"\"\n",
    "    #return np.loadtxt(file)\n",
    "    result = []\n",
    "    with open(file, \"r\") as fp:\n",
    "        for i in fp.readlines():\n",
    "            tmp = i.split(\" \")\n",
    "            try:\n",
    "                result.append((int(tmp[0]), int(tmp[1])))\n",
    "            except:pass\n",
    "\n",
    "    return result\n",
    "\n",
    "\n",
    "def create_graph(list):\n",
    "    graph_temp = nx.DiGraph() \n",
    "    graph_temp.clear()\n",
    "    for idx, name_number in enumerate(list):\n",
    "        graph_temp.add_node(idx, name=name_number)\n",
    "    \n",
    "    graph_temp.add_edges_from(list)\n",
    "    return graph_temp    \n",
    "    \n",
    "url = 'https://snap.stanford.edu/data/facebook_combined.txt.gz'\n",
    "\n",
    "#download_file(url, \"facebook_combined.gz\")\n",
    "#unpack_gz(\"facebook_combined.gz\")\n",
    "dataset = load_data(\"facebook_combined.txt\")\n",
    "#print(dataset)\n",
    "print(len(dataset))\n",
    "graph = create_graph(dataset)"
   ]
  },
  {
   "cell_type": "markdown",
   "metadata": {},
   "source": [
    "Part 2: Analyse the data\n",
    "\n",
    "Now, let's take a look at the network you imported.\n",
    "\n",
    "By node degree we mean the number of edges to and from a node. This is different in an undirected network, where in-degree == out-degree, and a directed network where in-degree != out-degree.\n",
    "\n",
    "By graph degree we mean the number of edges in the entire network.\n",
    "\n",
    "Hand-in code that display:\n",
    "\n",
    "    The number of nodes in the network\n",
    "    The number of edges in the network\n",
    "    The average degree in the network\n",
    "    A visualisation of the network inside your notebook\n",
    "\n"
   ]
  },
  {
   "cell_type": "code",
   "execution_count": 92,
   "metadata": {},
   "outputs": [
    {
     "name": "stdout",
     "output_type": "stream",
     "text": [
      "The number of nodes in the network:  88234\n",
      "The number of edges in the network:  88234\n",
      "The average degree in the network:  1\n"
     ]
    }
   ],
   "source": [
    "print(\"The number of nodes in the network: \", graph.number_of_nodes())\n",
    "print(\"The number of edges in the network: \", len(graph.edges()))\n",
    "print(\"The average degree in the network: \",graph.number_of_nodes()// len(graph.edges()))\n",
    "\n"
   ]
  },
  {
   "cell_type": "code",
   "execution_count": null,
   "metadata": {},
   "outputs": [],
   "source": [
    "from concurrent.futures import ProcessPoolExecutor\n",
    "import multiprocessing\n",
    "\n",
    "\n",
    "def split_list(alist, wanted_parts=1):\n",
    "    length = len(alist)\n",
    "    return [ alist[i*length // wanted_parts: (i+1)*length // wanted_parts] \n",
    "             for i in range(wanted_parts) ]\n",
    "    \n",
    "def multiprocessing(func, args, workers=multiprocessing.cpu_count()):\n",
    "    with ProcessPoolExecutor(workers) as ex:\n",
    "        res = ex.map(draw_graph, args)\n",
    "    return list(res)\n",
    "    \n",
    "def draw_graph(graph):\n",
    "    nx.draw(graph, pos=graphviz_layout(graph), \n",
    "            node_size=30, width=.05, cmap=plt.cm.Blues, \n",
    "            with_labels=True, node_color=range(len(graph)))\n",
    "\n",
    "print(\"A visualisation of the network inside your notebook\")\n",
    "#draw_graph(graph)\n",
    "## obs bliver vist ikke færdig i denne levetid. Kunne ikke få multiprocessing til at virke\n",
    "nx.draw(praph)\n"
   ]
  },
  {
   "cell_type": "markdown",
   "metadata": {},
   "source": [
    "Part 3: Find the most popular people\n",
    "\n",
    "We're naturally interested in who has the most friends, so we want to extract top 10. That is, the 10 most connected people.\n",
    "\n",
    "Hand-in:\n",
    "\n",
    "    Code that extracts and reports the 10 people with the most connections in the network\n",
    "\n"
   ]
  },
  {
   "cell_type": "code",
   "execution_count": 81,
   "metadata": {},
   "outputs": [
    {
     "name": "stdout",
     "output_type": "stream",
     "text": [
      "10 people with the most connections in the network\n",
      "#1 1045\n",
      "#2 792\n",
      "#3 755\n",
      "#4 547\n",
      "#5 347\n",
      "#6 294\n",
      "#7 291\n",
      "#8 254\n",
      "#9 245\n",
      "#10 235\n"
     ]
    }
   ],
   "source": [
    "in_deg_vec = np.array([graph.degree(n) for n in graph.nodes()])\n",
    "print(\"10 people with the most connections in the network:\")\n",
    "for idx, person in enumerate(sorted(in_deg_vec, reverse=True)):\n",
    "    if idx < 10:\n",
    "        print(\"#\" + str(idx+1), person)\n"
   ]
  }
 ],
 "metadata": {
  "kernelspec": {
   "display_name": "Python 3",
   "language": "python",
   "name": "python3"
  },
  "language_info": {
   "codemirror_mode": {
    "name": "ipython",
    "version": 3
   },
   "file_extension": ".py",
   "mimetype": "text/x-python",
   "name": "python",
   "nbconvert_exporter": "python",
   "pygments_lexer": "ipython3",
   "version": "3.7.4"
  }
 },
 "nbformat": 4,
 "nbformat_minor": 2
}
